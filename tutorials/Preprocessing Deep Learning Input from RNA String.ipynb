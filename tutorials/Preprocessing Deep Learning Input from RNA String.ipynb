{
 "cells": [
  {
   "cell_type": "markdown",
   "metadata": {
    "papermill": {
     "duration": 0.03306,
     "end_time": "2022-02-13T09:21:29.645173",
     "exception": false,
     "start_time": "2022-02-13T09:21:29.612113",
     "status": "completed"
    },
    "tags": []
   },
   "source": [
    "# Tutorial: Preprocessing Deep Learning Input from RNA Strings\n",
    "\n",
    "# 1. Why bother with RNA properties prediction?\n",
    "\n",
    "RNA Technology is now a new promising hope in Health Science. In addtion to the global-scaled use of COVID19 mRNA-vaccines from BioNTech/Pfizer and Moderna, RNA drugs also provides [a new hint on how to cure important disease such as cancers](https://jhoonline.biomedcentral.com/articles/10.1186/s13045-020-00951-w).\n",
    "\n",
    "Serious learners about RNA should take this [amazing course](https://www.edx.org/course/introduction-to-biology-the-secret-of-life-3), or just look at this [cute video](https://youtu.be/JQByjprj_mA) (and the others in this channel) if you don't have much time. \n",
    "\n",
    "Leading labs including [BioNTech](https://biontech.de/how-we-translate/mrna-therapeutics), [Moderna](https://www.modernatx.com/mrna-technology/mrna-platform-enabling-drug-discovery-development) and [others](https://www.accenttx.com/our-scientific-focus/rmps-and-cancer/) state that RNA-related technology has an important advantage over DNA-technology such that it will not provide a **permanent effects** on a patient, i.e. if we modify our genes in DNA, the modification will permanently embed in the DNA, including any modification mistakes.\n",
    "\n",
    "In contrast, injected RNA will do its job i.e. making protiens, and then completely disappeared, without leaving any permanent effects. Proteins made by RNA could prevent some\n",
    "important diseases such as in the case of mRNA vaccines. Intuitively, Moderna compares DNA as a life \"hardware\" while RNA as a \"software\" which can be safely injected to human body.\n",
    "\n",
    "To design RNA drug or vaccine, some properties of RNA must be known. In the past, these properties have to be tested in bio labs which can be time and resource consuming.\n",
    "Therefore, it is difficult to conduct experiments in a large scale e.g. millions of RNAs. \n",
    "\n",
    "Deep learning technology then can help predicting specific properties of millions of RNAs in a flash. Even though, its predictions are not entirely 100% accurate, it can serve as a first filter\n",
    "for biologists to select most promising samples to further make a small-scale intensive case in the next phase.\n",
    "\n",
    "\n",
    "## 1.1 About this Tutorial\n",
    "This interactive tutorial notebook demonstrates how to preprocess RNA data into an input ready to feed into Deep Learning models.\n",
    "The processed data will be similar to the ones provided by [Kaggle's mRNA OpenVaccine competition](https://www.kaggle.com/c/stanford-covid-vaccine/overview).\n",
    "So that once you finish processing your own RNA data, you can use any of the [great public codes](https://www.kaggle.com/c/stanford-covid-vaccine/code?competitionId=22111&sortBy=voteCount) \n",
    "to make a prediction. We will provide a simplified SOTA top-solution, which will be easily reproducible and adapt to your own work in the near future, so stay tune!!\n",
    "\n",
    "Figure 1 shows the overall big picture of this notebook. \n",
    "\n",
    "Here, we assume that the user has a list of \"RNA strings\" as input where an RNA string is a string consisting of only 4 characters 'ACGU'.\n",
    "The true RNA structure of a given string is unknown as can be illustrated in Figure 1 (bottom-left).\n",
    "The user wants to extract this unknown structure and represents it in the format which is ready-to-use on a Deep Learning model, e.g. a neural network.\n",
    "\n",
    "\n",
    "In this tutorial, this unknown structure will be estimated using various python and bioinformatics libraries. \n",
    "To feed into a deep learning model, the estimated structure will be best represented by \"Graph data\" $G = (X, E)$ where\n",
    "each node in the graph corresponding to each character in a string.\n",
    "\n",
    "Note that this **Graph Representation** generalizes **Sequential Data Representation** so while you can still use well-known\n",
    "sequential layers/models such as '1D Convolution', 'Transformers' or 'Recurrent Neural Networks', you can also use a new frontier\n",
    "like 'Graph Neural Networks' which is actually shown effective in this RNA data.\n",
    "\n",
    "$X$ is a sequence of **node feature vectors**,\n",
    "and $E$ is an adjacency matrix specifying linkages for each pair of nodes whether the pair is connected in the true structure.\n",
    "\n",
    "In general, each element in an adjacency matrix can be a real number (e.g. specifying a \"probability\" whether a pair is connected).\n",
    "Moreover, there can be more than one adjacency matrices (e.g. differently estimated from various libraries). \n",
    "\n",
    "In this general setting of having a list of several adjacency matrices, we will shortly call $E$ as a list of **edge features**.\n",
    "\n",
    "**Acknowledgement** this tutorial is built on amazing works of many kagglers especially [@its7171](https://www.kaggle.com/its7171/how-to-generate-augmentation-data) and [@group16](https://www.kaggle.com/group16/generating-bpps-with-arnie). However, the URLs and packages used in their notebooks are already outdated. This tutorial fix the problems, ensure complete reproducibility using static Kaggle's dataset, as well as providing full detailed explanation with minimum requirements on the input data.\n"
   ]
  },
  {
   "cell_type": "markdown",
   "metadata": {
    "papermill": {
     "duration": 0.030875,
     "end_time": "2022-02-13T09:21:29.707281",
     "exception": false,
     "start_time": "2022-02-13T09:21:29.676406",
     "status": "completed"
    },
    "tags": []
   },
   "source": [
    "<!-- ![Data preprocessing from an RNA string](https://i.ibb.co/8mkQ1vh/RNA-data-preprocessing.png) -->\n",
    "<img src=https://i.ibb.co/8mkQ1vh/RNA-data-preprocessing.png width=\"1024\">\n",
    "Figure 1. Data preprocessing from an RNA string"
   ]
  },
  {
   "cell_type": "markdown",
   "metadata": {
    "papermill": {
     "duration": 0.031045,
     "end_time": "2022-02-13T09:21:29.769600",
     "exception": false,
     "start_time": "2022-02-13T09:21:29.738555",
     "status": "completed"
    },
    "tags": []
   },
   "source": [
    "\n",
    "## 1.1 Overview of this tutorial\n",
    "\n",
    "We will assume that users have already list of RNA strings to extract the graph features explained above. Here, we will use Kaggle's OpenVaccine dataset containing 6,000 RNA strings. Note that in OpenVaccine, the dataset already contained some of node and edge features. We will not use them in this tutorial but will show how to extract features even beyond ones in OpenVaccine.\n",
    "\n",
    "**Node Features.** Each character in an RNA string is represented by its character \"A, C, G or U\" and its loop-type as shown in Figure 1 \"Exterior, Bulge, Stem, Multibranch or Hairpin\". We will represent each character by 1-hot vector $R^4$ and will represent the loop-type vector in $R^6$ since there are 6 possible loop types. \n",
    "\n",
    "Note that RNA structure can be very complex and have a wide variety as shown in Figure 2.\n",
    "\n",
    "![](https://i.ibb.co/swD1DBF/rna-folding-examples.png)\n",
    "Figure 2. RNA can have a variety of structure due to folding.\n",
    "\n",
    "Therefore, due to complexity of the RNA folding structure, exact loop-type property is unknown (already mentioned in Figure 1), the `CapR` library we used can estimate loop-type probability. Therefore, it will return a probability vector in $R^6$.\n",
    "\n",
    "Therefore, by concatenating the two vectors, our node features will lies in $R^{10}$. Note that it's certainly possible that to also employ other libraries to extract more node features so that our node-feature vector lies in a higher dimensional than $R^{10}$.\n",
    "\n",
    "\n",
    "**Edge Features.** Similar to loop-type features, exact link between a pair of nodes is unknown. Therefore, **\"base-pair probabilities matrix (bpps)\"** is extracted instead. Suppose that an RNA string is length of $N$, bpps then is in $R^{N \\times N}$.\n",
    "\n",
    "This tutorial show how to extract edge features using bpps libraries such as `vienna`, `contrafold` and `rnastructure`. From bpps of these libraries, we can also get \"most probable\" structure, which can also be further extracted as either node or edge feature.\n",
    "\n",
    "After the node and edge features are extracted, they can be input directly to deep learning models as shown in Figure 3. The RNA Deep Learning notebook tutorial will be published soon.\n",
    "\n",
    "<img src=https://i.ibb.co/r3WB24R/RNA-feature-and-model.png width=\"750\">\n",
    "Figure 3. Extracted feature can be used directly to models such as LSTM, GRU, Transformers and Graph Neural Networks (GNNs)\n"
   ]
  },
  {
   "cell_type": "markdown",
   "metadata": {
    "papermill": {
     "duration": 0.032119,
     "end_time": "2022-02-13T09:21:29.833065",
     "exception": false,
     "start_time": "2022-02-13T09:21:29.800946",
     "status": "completed"
    },
    "tags": []
   },
   "source": [
    "## 1.2 Install necessary external libraries\n",
    "\n",
    "As mention above, we will install `CapR`, `vienna`, `contrafold` and `rnastructure` packages to extract node and edge features.\n",
    "For convenient, We will also install the package called `arnie` which provides a unified interface on all bpps libraries mentioned above."
   ]
  },
  {
   "cell_type": "markdown",
   "metadata": {
    "papermill": {
     "duration": 0.029984,
     "end_time": "2022-02-13T09:21:29.893465",
     "exception": false,
     "start_time": "2022-02-13T09:21:29.863481",
     "status": "completed"
    },
    "tags": []
   },
   "source": [
    "\n",
    "### Important Note on Kaggle's Docker Version\n",
    "This kaggle notebook's environment is frozen, not to update to the latest docker version.\n",
    "The libraries used in this notebook are also stored as Kaggle's dataset and work perfectly in the current frozen environment."
   ]
  },
  {
   "cell_type": "code",
   "execution_count": 1,
   "metadata": {
    "_kg_hide-output": true,
    "execution": {
     "iopub.execute_input": "2022-02-13T09:21:29.958007Z",
     "iopub.status.busy": "2022-02-13T09:21:29.957478Z",
     "iopub.status.idle": "2022-02-13T09:21:43.193758Z",
     "shell.execute_reply": "2022-02-13T09:21:43.193161Z",
     "shell.execute_reply.started": "2022-02-13T09:19:06.379824Z"
    },
    "papermill": {
     "duration": 13.269525,
     "end_time": "2022-02-13T09:21:43.193874",
     "exception": false,
     "start_time": "2022-02-13T09:21:29.924349",
     "status": "completed"
    },
    "tags": []
   },
   "outputs": [
    {
     "name": "stdout",
     "output_type": "stream",
     "text": [
      "CapR\t\t\t\t\t  contrafold-se\r\n",
      "RNAstructureLinuxTextInterfaces64bit.tgz  draw_rna_pkg\r\n",
      "arnie\t\t\t\t\t  viennarna_2.4.15-1_amd64.deb\r\n",
      "bpps\r\n",
      "Collecting pip\r\n",
      "  Downloading pip-22.0.3-py3-none-any.whl (2.1 MB)\r\n",
      "\u001b[K     |████████████████████████████████| 2.1 MB 594 kB/s \r\n",
      "\u001b[?25hInstalling collected packages: pip\r\n",
      "  Attempting uninstall: pip\r\n",
      "    Found existing installation: pip 20.2.2\r\n",
      "    Uninstalling pip-20.2.2:\r\n",
      "      Successfully uninstalled pip-20.2.2\r\n",
      "Successfully installed pip-22.0.3\r\n"
     ]
    }
   ],
   "source": [
    "WORKING_DIR = '/kaggle/working/'\n",
    "TOOLKITS_DIR = '/kaggle/input/rna-data-preprocessing-toolkits'\n",
    "!ls {TOOLKITS_DIR}\n",
    "!/opt/conda/bin/python3.7 -m pip install --upgrade pip"
   ]
  },
  {
   "cell_type": "markdown",
   "metadata": {
    "papermill": {
     "duration": 0.051841,
     "end_time": "2022-02-13T09:21:43.298458",
     "exception": false,
     "start_time": "2022-02-13T09:21:43.246617",
     "status": "completed"
    },
    "tags": []
   },
   "source": [
    "The benefit of using kaggle notebook over alternative notebook such as Colab is the availability of datasets for everybody.\n",
    "Here, all external libraries are stored in a Kaggle dataset on a path specified by`TOOLKITS_DIR`. Firstly, we install `vienna` package (ref: https://www.tbi.univie.ac.at/RNA/)\n"
   ]
  },
  {
   "cell_type": "code",
   "execution_count": 2,
   "metadata": {
    "_kg_hide-input": true,
    "_kg_hide-output": true,
    "execution": {
     "iopub.execute_input": "2022-02-13T09:21:43.411538Z",
     "iopub.status.busy": "2022-02-13T09:21:43.410787Z",
     "iopub.status.idle": "2022-02-13T09:21:49.324142Z",
     "shell.execute_reply": "2022-02-13T09:21:49.323466Z",
     "shell.execute_reply.started": "2022-02-13T09:19:18.875489Z"
    },
    "papermill": {
     "duration": 5.973639,
     "end_time": "2022-02-13T09:21:49.324243",
     "exception": false,
     "start_time": "2022-02-13T09:21:43.350604",
     "status": "completed"
    },
    "tags": []
   },
   "outputs": [
    {
     "name": "stdout",
     "output_type": "stream",
     "text": [
      "\r\n",
      "\r\n",
      "\r\n",
      "Note, selecting 'viennarna' instead of '/kaggle/input/rna-data-preprocessing-toolkits/viennarna_2.4.15-1_amd64.deb'\r\n",
     ]
    }
   ],
   "source": [
    "!apt-get install {TOOLKITS_DIR}/viennarna_2.4.15-1_amd64.deb -y"
   ]
  },
  {
   "cell_type": "markdown",
   "metadata": {
    "papermill": {
     "duration": 0.044635,
     "end_time": "2022-02-13T09:21:49.414207",
     "exception": false,
     "start_time": "2022-02-13T09:21:49.369572",
     "status": "completed"
    },
    "tags": []
   },
   "source": [
    "The `CapR` package is already compiled and executable. It is retrieved from https://github.com/fukunagatsu/CapR"
   ]
  },
  {
   "cell_type": "code",
   "execution_count": 3,
   "metadata": {
    "_kg_hide-input": true,
    "_kg_hide-output": true,
    "execution": {
     "iopub.execute_input": "2022-02-13T09:21:49.513463Z",
     "iopub.status.busy": "2022-02-13T09:21:49.510615Z",
     "iopub.status.idle": "2022-02-13T09:21:50.521847Z",
     "shell.execute_reply": "2022-02-13T09:21:50.521395Z",
     "shell.execute_reply.started": "2022-02-13T09:19:25.691271Z"
    },
    "papermill": {
     "duration": 1.062896,
     "end_time": "2022-02-13T09:21:50.521941",
     "exception": false,
     "start_time": "2022-02-13T09:21:49.459045",
     "status": "completed"
    },
    "tags": []
   },
   "outputs": [],
   "source": [
    "!cp -rf {TOOLKITS_DIR}/CapR/CapR/ .\n",
    "!chmod 755 ./CapR/CapR"
   ]
  },
  {
   "cell_type": "markdown",
   "metadata": {
    "papermill": {
     "duration": 0.044492,
     "end_time": "2022-02-13T09:21:50.611043",
     "exception": false,
     "start_time": "2022-02-13T09:21:50.566551",
     "status": "completed"
    },
    "tags": []
   },
   "source": [
    "Next, the `arnie` package:   https://github.com/DasLab/arnie"
   ]
  },
  {
   "cell_type": "code",
   "execution_count": 4,
   "metadata": {
    "_cell_guid": "79c7e3d0-c299-4dcb-8224-4455121ee9b0",
    "_kg_hide-input": true,
    "_kg_hide-output": true,
    "_uuid": "d629ff2d2480ee46fbb7e2d37f6b5fab8052498a",
    "execution": {
     "iopub.execute_input": "2022-02-13T09:21:50.709627Z",
     "iopub.status.busy": "2022-02-13T09:21:50.708960Z",
     "iopub.status.idle": "2022-02-13T09:21:54.380832Z",
     "shell.execute_reply": "2022-02-13T09:21:54.380158Z",
     "shell.execute_reply.started": "2022-02-13T09:19:28.050643Z"
    },
    "papermill": {
     "duration": 3.725122,
     "end_time": "2022-02-13T09:21:54.381086",
     "exception": false,
     "start_time": "2022-02-13T09:21:50.655964",
     "status": "completed"
    },
    "tags": []
   },
   "outputs": [
    {
     "name": "stdout",
     "output_type": "stream",
     "text": [
     ]
    }
   ],
   "source": [
    "!cp -rf {TOOLKITS_DIR}/arnie/arnie .\n",
    "!cp -rf {TOOLKITS_DIR}/draw_rna_pkg/draw_rna_pkg .\n",
    "!cd draw_rna_pkg && python setup.py install"
   ]
  },
  {
   "cell_type": "markdown",
   "metadata": {
    "papermill": {
     "duration": 0.044972,
     "end_time": "2022-02-13T09:21:54.473105",
     "exception": false,
     "start_time": "2022-02-13T09:21:54.428133",
     "status": "completed"
    },
    "tags": []
   },
   "source": [
    "Next is Stanford's `contrafold` package (ref: http://contra.stanford.edu/contrafold/). Note that it requires `g++4.8` which is not available in the latest Kaggle environment."
   ]
  },
  {
   "cell_type": "code",
   "execution_count": 5,
   "metadata": {
    "_kg_hide-input": true,
    "_kg_hide-output": true,
    "execution": {
     "iopub.execute_input": "2022-02-13T09:21:54.572347Z",
     "iopub.status.busy": "2022-02-13T09:21:54.571871Z",
     "iopub.status.idle": "2022-02-13T09:22:19.963745Z",
     "shell.execute_reply": "2022-02-13T09:22:19.964411Z",
     "shell.execute_reply.started": "2022-02-13T09:19:33.671731Z"
    },
    "papermill": {
     "duration": 25.445644,
     "end_time": "2022-02-13T09:22:19.964571",
     "exception": false,
     "start_time": "2022-02-13T09:21:54.518927",
     "status": "completed"
    },
    "tags": []
   },
   "outputs": [
    {
     "name": "stdout",
     "output_type": "stream",
     "text": [
     ]
    }
   ],
   "source": [
    "!cp -rf {TOOLKITS_DIR}/contrafold-se/contrafold-se .\n",
    "!apt-get install -y g++-4.8\n",
    "!sed -i.bak \"1 s/^.*$/CXX = g++-4.8/\" contrafold-se/src/Makefile\n",
    "!cd contrafold-se/src; make"
   ]
  },
  {
   "cell_type": "markdown",
   "metadata": {
    "papermill": {
     "duration": 0.098441,
     "end_time": "2022-02-13T09:22:20.162262",
     "exception": false,
     "start_time": "2022-02-13T09:22:20.063821",
     "status": "completed"
    },
    "tags": []
   },
   "source": [
    "Lastly, the`rnastructure` package from https://rna.urmc.rochester.edu/RNAstructure.html"
   ]
  },
  {
   "cell_type": "code",
   "execution_count": 6,
   "metadata": {
    "_kg_hide-input": true,
    "_kg_hide-output": true,
    "execution": {
     "iopub.execute_input": "2022-02-13T09:22:20.366970Z",
     "iopub.status.busy": "2022-02-13T09:22:20.366317Z",
     "iopub.status.idle": "2022-02-13T09:22:23.342716Z",
     "shell.execute_reply": "2022-02-13T09:22:23.343214Z",
     "shell.execute_reply.started": "2022-02-13T09:20:05.254251Z"
    },
    "papermill": {
     "duration": 3.081796,
     "end_time": "2022-02-13T09:22:23.343335",
     "exception": false,
     "start_time": "2022-02-13T09:22:20.261539",
     "status": "completed"
    },
    "tags": []
   },
   "outputs": [
    {
     "name": "stdout",
     "output_type": "stream",
     "text": [
      ]
    }
   ],
   "source": [
    "!tar zxvf {TOOLKITS_DIR}/RNAstructureLinuxTextInterfaces64bit.tgz --directory ."
   ]
  },
  {
   "cell_type": "markdown",
   "metadata": {
    "papermill": {
     "duration": 0.087325,
     "end_time": "2022-02-13T09:22:23.518486",
     "exception": false,
     "start_time": "2022-02-13T09:22:23.431161",
     "status": "completed"
    },
    "tags": []
   },
   "source": [
    "# 2. Feature Extraction\n",
    "\n",
    "In order to use `arnie` as an interface to all bpps libraries, we need to configure the paths to `arnie.conf` as shown below. After that, we import all necessary packages that will be used in this tutorial."
   ]
  },
  {
   "cell_type": "code",
   "execution_count": 7,
   "metadata": {
    "_kg_hide-output": true,
    "execution": {
     "iopub.execute_input": "2022-02-13T09:22:23.694271Z",
     "iopub.status.busy": "2022-02-13T09:22:23.693572Z",
     "iopub.status.idle": "2022-02-13T09:22:25.354037Z",
     "shell.execute_reply": "2022-02-13T09:22:25.353437Z",
     "shell.execute_reply.started": "2022-02-13T09:20:09.014515Z"
    },
    "papermill": {
     "duration": 1.748942,
     "end_time": "2022-02-13T09:22:25.354160",
     "exception": false,
     "start_time": "2022-02-13T09:22:23.605218",
     "status": "completed"
    },
    "tags": []
   },
   "outputs": [
    {
     "name": "stdout",
     "output_type": "stream",
     "text": [
      "vienna_2: /usr/bin\r\n",
      "contrafold_2: /kaggle/working/contrafold-se/src\r\n",
      "rnastructure: /kaggle/working/RNAstructure/exe\r\n",
      "TMP: /kaggle/working/tmp\r\n"
     ]
    }
   ],
   "source": [
    "import os\n",
    "import glob\n",
    "import sys\n",
    "\n",
    "!echo \"vienna_2: /usr/bin\" > arnie.conf\n",
    "!echo \"contrafold_2: /kaggle/working/contrafold-se/src\" >> arnie.conf\n",
    "!echo \"rnastructure: /kaggle/working/RNAstructure/exe\" >> arnie.conf\n",
    "!echo \"TMP: /kaggle/working/tmp\" >> arnie.conf\n",
    "!mkdir -p /kaggle/working/tmp\n",
    "os.environ[\"ARNIEFILE\"] = f\"/kaggle/working/arnie.conf\"\n",
    "os.environ[\"DATAPATH\"] = f\"/kaggle/working/RNAstructure/data_tables\"\n",
    "sys.path.append('/kaggle/working/draw_rna_pkg/')\n",
    "sys.path.append('/kaggle/working/draw_rna_pkg/ipynb/')\n",
    "\n",
    "!cat arnie.conf"
   ]
  },
  {
   "cell_type": "code",
   "execution_count": 8,
   "metadata": {
    "execution": {
     "iopub.execute_input": "2022-02-13T09:22:25.617390Z",
     "iopub.status.busy": "2022-02-13T09:22:25.616711Z",
     "iopub.status.idle": "2022-02-13T09:22:25.650482Z",
     "shell.execute_reply": "2022-02-13T09:22:25.649788Z",
     "shell.execute_reply.started": "2022-02-13T09:20:13.566040Z"
    },
    "papermill": {
     "duration": 0.166988,
     "end_time": "2022-02-13T09:22:25.650594",
     "exception": false,
     "start_time": "2022-02-13T09:22:25.483606",
     "status": "completed"
    },
    "tags": []
   },
   "outputs": [],
   "source": [
    "import numpy as np\n",
    "import pandas as pd\n",
    "from tqdm.notebook import tqdm as tqdm\n",
    "import subprocess\n",
    "from multiprocessing import Pool\n",
    "\n",
    "# from arnie.pfunc import pfunc\n",
    "from arnie.mea.mea import MEA\n",
    "# from arnie.free_energy import free_energy\n",
    "from arnie.bpps import bpps\n",
    "# from arnie.mfe import mfe\n",
    "import arnie.utils as utils\n",
    "\n"
   ]
  },
  {
   "cell_type": "markdown",
   "metadata": {
    "papermill": {
     "duration": 0.129943,
     "end_time": "2022-02-13T09:22:25.909309",
     "exception": false,
     "start_time": "2022-02-13T09:22:25.779366",
     "status": "completed"
    },
    "tags": []
   },
   "source": [
    "## 2.1 Getting Edge Features\n",
    "\n",
    "Equpping with packages like `vienna`, `contrafold` and `rnastructure`,`arnie` can be used to extract both bpps matrix and most-probable structure.\n",
    "Here, we use RNA strings from the OpenVaccine dataset without using any already-extracted-features. \n",
    "\n",
    "The readers can easily substitute their own RNA strings to the ones in OpenVaccine by creating a pandas `DataFrame` with two columns of `['id','sequence']`. Note that `id` for each string can be arbitrary -- just make sure to be unique for each string.\n"
   ]
  },
  {
   "cell_type": "code",
   "execution_count": 9,
   "metadata": {
    "execution": {
     "iopub.execute_input": "2022-02-13T09:22:26.178432Z",
     "iopub.status.busy": "2022-02-13T09:22:26.177800Z",
     "iopub.status.idle": "2022-02-13T09:22:26.181819Z",
     "shell.execute_reply": "2022-02-13T09:22:26.182763Z",
     "shell.execute_reply.started": "2022-02-13T09:20:13.599465Z"
    },
    "papermill": {
     "duration": 0.145448,
     "end_time": "2022-02-13T09:22:26.182924",
     "exception": false,
     "start_time": "2022-02-13T09:22:26.037476",
     "status": "completed"
    },
    "tags": []
   },
   "outputs": [],
   "source": [
    "debug = True # To extract features of all 6,000 strings, set debug=False"
   ]
  },
  {
   "cell_type": "code",
   "execution_count": 10,
   "metadata": {
    "execution": {
     "iopub.execute_input": "2022-02-13T09:22:26.528124Z",
     "iopub.status.busy": "2022-02-13T09:22:26.527459Z",
     "iopub.status.idle": "2022-02-13T09:22:27.549971Z",
     "shell.execute_reply": "2022-02-13T09:22:27.550360Z",
     "shell.execute_reply.started": "2022-02-13T09:20:13.723303Z"
    },
    "papermill": {
     "duration": 1.266875,
     "end_time": "2022-02-13T09:22:27.550499",
     "exception": false,
     "start_time": "2022-02-13T09:22:26.283624",
     "status": "completed"
    },
    "tags": []
   },
   "outputs": [
    {
     "name": "stdout",
     "output_type": "stream",
     "text": [
      "(20, 2)\n"
     ]
    },
    {
     "data": {
      "text/html": [
       "<div>\n",
       "<style scoped>\n",
       "    .dataframe tbody tr th:only-of-type {\n",
       "        vertical-align: middle;\n",
       "    }\n",
       "\n",
       "    .dataframe tbody tr th {\n",
       "        vertical-align: top;\n",
       "    }\n",
       "\n",
       "    .dataframe thead th {\n",
       "        text-align: right;\n",
       "    }\n",
       "</style>\n",
       "<table border=\"1\" class=\"dataframe\">\n",
       "  <thead>\n",
       "    <tr style=\"text-align: right;\">\n",
       "      <th></th>\n",
       "      <th>id</th>\n",
       "      <th>sequence</th>\n",
       "    </tr>\n",
       "  </thead>\n",
       "  <tbody>\n",
       "    <tr>\n",
       "      <th>0</th>\n",
       "      <td>id_001f94081</td>\n",
       "      <td>GGAAAAGCUCUAAUAACAGGAGACUAGGACUACGUAUUUCUAGGUA...</td>\n",
       "    </tr>\n",
       "    <tr>\n",
       "      <th>1</th>\n",
       "      <td>id_0049f53ba</td>\n",
       "      <td>GGAAAAAGCGCGCGCGGUUAGCGCGCGCUUUUGCGCGCGCUGUACC...</td>\n",
       "    </tr>\n",
       "    <tr>\n",
       "      <th>2</th>\n",
       "      <td>id_006f36f57</td>\n",
       "      <td>GGAAAGUGCUCAGAUAAGCUAAGCUCGAAUAGCAAUCGAAUAGAAU...</td>\n",
       "    </tr>\n",
       "  </tbody>\n",
       "</table>\n",
       "</div>"
      ],
      "text/plain": [
       "             id                                           sequence\n",
       "0  id_001f94081  GGAAAAGCUCUAAUAACAGGAGACUAGGACUACGUAUUUCUAGGUA...\n",
       "1  id_0049f53ba  GGAAAAAGCGCGCGCGGUUAGCGCGCGCUUUUGCGCGCGCUGUACC...\n",
       "2  id_006f36f57  GGAAAGUGCUCAGAUAAGCUAAGCUCGAAUAGCAAUCGAAUAGAAU..."
      ]
     },
     "execution_count": 10,
     "metadata": {},
     "output_type": "execute_result"
    }
   ],
   "source": [
    "# extract features from all packages and save in corresponding dir\n",
    "# you can also select only one package\n",
    "packages = ['contrafold_2', 'vienna_2', 'rnastructure']\n",
    "\n",
    "train = pd.read_json('../input/stanford-covid-vaccine/train.json', lines=True)\n",
    "test = pd.read_json('../input/stanford-covid-vaccine/test.json', lines=True)\n",
    "\n",
    "if debug:\n",
    "    train = train[:10]\n",
    "    test = test[:10]\n",
    "target_df = train.append(test)[['id','sequence']]\n",
    "\n",
    "print(target_df.shape)\n",
    "target_df.head(3)"
   ]
  },
  {
   "cell_type": "markdown",
   "metadata": {
    "papermill": {
     "duration": 0.086415,
     "end_time": "2022-02-13T09:22:27.723651",
     "exception": false,
     "start_time": "2022-02-13T09:22:27.637236",
     "status": "completed"
    },
    "tags": []
   },
   "source": [
    "As Kaggle notebook provides 4-cores CPU, we will take advantage of the multiprocessing when extracting edge/node features. Here, we creat directory for each selected package separately."
   ]
  },
  {
   "cell_type": "code",
   "execution_count": 11,
   "metadata": {
    "execution": {
     "iopub.execute_input": "2022-02-13T09:22:27.899227Z",
     "iopub.status.busy": "2022-02-13T09:22:27.898778Z",
     "iopub.status.idle": "2022-02-13T09:22:28.188543Z",
     "shell.execute_reply": "2022-02-13T09:22:28.189025Z",
     "shell.execute_reply.started": "2022-02-13T09:20:14.974128Z"
    },
    "papermill": {
     "duration": 0.378745,
     "end_time": "2022-02-13T09:22:28.189147",
     "exception": false,
     "start_time": "2022-02-13T09:22:27.810402",
     "status": "completed"
    },
    "tags": []
   },
   "outputs": [
    {
     "name": "stdout",
     "output_type": "stream",
     "text": [
      "4\r\n"
     ]
    }
   ],
   "source": [
    "!grep processor /proc/cpuinfo | wc -l\n",
    "MAX_THREADS = 4\n",
    "BPPS_DIR = WORKING_DIR+'bpps/'\n",
    "os.mkdir(BPPS_DIR) # we will store the extracted bpps here"
   ]
  },
  {
   "cell_type": "code",
   "execution_count": 12,
   "metadata": {
    "execution": {
     "iopub.execute_input": "2022-02-13T09:22:28.376951Z",
     "iopub.status.busy": "2022-02-13T09:22:28.376259Z",
     "iopub.status.idle": "2022-02-13T09:22:28.657491Z",
     "shell.execute_reply": "2022-02-13T09:22:28.657893Z",
     "shell.execute_reply.started": "2022-02-13T09:20:15.728168Z"
    },
    "papermill": {
     "duration": 0.376827,
     "end_time": "2022-02-13T09:22:28.658081",
     "exception": false,
     "start_time": "2022-02-13T09:22:28.281254",
     "status": "completed"
    },
    "tags": []
   },
   "outputs": [
    {
     "name": "stdout",
     "output_type": "stream",
     "text": [
      "contrafold_2  rnastructure  vienna_2\r\n"
     ]
    }
   ],
   "source": [
    "for package in packages:\n",
    "    os.mkdir(BPPS_DIR+package)\n",
    "!ls {BPPS_DIR}"
   ]
  },
  {
   "cell_type": "markdown",
   "metadata": {
    "papermill": {
     "duration": 0.088199,
     "end_time": "2022-02-13T09:22:28.835406",
     "exception": false,
     "start_time": "2022-02-13T09:22:28.747207",
     "status": "completed"
    },
    "tags": []
   },
   "source": [
    "The parallel computation can be done easily by applying `imap` from `multiprocessing` package to the specified function, which in our case is the `extract_edge_features` function. `arnie` provides `bpps` and `MEA` function to extract the bpps matrix and most-probable structure, respectively.\n",
    "The extracted bpps matrix will be saved to Numpy's `.npy` format."
   ]
  },
  {
   "cell_type": "code",
   "execution_count": 13,
   "metadata": {
    "_kg_hide-output": true,
    "execution": {
     "iopub.execute_input": "2022-02-13T09:22:29.015241Z",
     "iopub.status.busy": "2022-02-13T09:22:29.014692Z",
     "iopub.status.idle": "2022-02-13T09:22:29.022151Z",
     "shell.execute_reply": "2022-02-13T09:22:29.022581Z",
     "shell.execute_reply.started": "2022-02-13T09:20:16.492429Z"
    },
    "papermill": {
     "duration": 0.098796,
     "end_time": "2022-02-13T09:22:29.022721",
     "exception": false,
     "start_time": "2022-02-13T09:22:28.923925",
     "status": "completed"
    },
    "tags": []
   },
   "outputs": [],
   "source": [
    "def extract_edge_features(arg):\n",
    "    sequence, seq_id, package = arg\n",
    "    \n",
    "    bp_matrix = bpps(sequence, package=package)\n",
    "        \n",
    "    mea_mdl = MEA(bp_matrix)\n",
    "    np.save(BPPS_DIR+package+f'/{seq_id}.npy', bp_matrix)\n",
    "    \n",
    "    return seq_id, sequence, mea_mdl.structure, mea_mdl.score_expected()[2], package\n"
   ]
  },
  {
   "cell_type": "code",
   "execution_count": 14,
   "metadata": {
    "execution": {
     "iopub.execute_input": "2022-02-13T09:22:29.203966Z",
     "iopub.status.busy": "2022-02-13T09:22:29.203297Z",
     "iopub.status.idle": "2022-02-13T09:22:43.382821Z",
     "shell.execute_reply": "2022-02-13T09:22:43.383253Z",
     "shell.execute_reply.started": "2022-02-13T09:20:16.503880Z"
    },
    "papermill": {
     "duration": 14.271409,
     "end_time": "2022-02-13T09:22:43.383394",
     "exception": false,
     "start_time": "2022-02-13T09:22:29.111985",
     "status": "completed"
    },
    "tags": []
   },
   "outputs": [
    {
     "data": {
      "application/vnd.jupyter.widget-view+json": {
       "model_id": "5c8498cc5f5a4cdb93c46b0019e3fad6",
       "version_major": 2,
       "version_minor": 0
      },
      "text/plain": [
       "HBox(children=(FloatProgress(value=0.0, max=60.0), HTML(value='')))"
      ]
     },
     "metadata": {},
     "output_type": "display_data"
    },
    {
     "name": "stdout",
     "output_type": "stream",
     "text": [
      "\n"
     ]
    }
   ],
   "source": [
    "# prepare input for extract_edge_features\n",
    "arg_list = []\n",
    "for i, (seq, seq_id) in enumerate(target_df[['sequence','id']].values):\n",
    "    for pack in packages:\n",
    "        arg_list.append([seq, seq_id, pack])\n",
    "\n",
    "# apply multiprocessing to extract_edge_features\n",
    "p = Pool(processes=MAX_THREADS)\n",
    "results = []\n",
    "for ret in tqdm(p.imap(extract_edge_features, arg_list),total=len(arg_list)):\n",
    "    results.append(ret)\n",
    "    \n",
    "structure_df = pd.DataFrame(results, columns=['id', 'sequence', 'structure', 'score', 'package'])"
   ]
  },
  {
   "cell_type": "code",
   "execution_count": 15,
   "metadata": {
    "execution": {
     "iopub.execute_input": "2022-02-13T09:22:43.581822Z",
     "iopub.status.busy": "2022-02-13T09:22:43.581113Z",
     "iopub.status.idle": "2022-02-13T09:22:43.585622Z",
     "shell.execute_reply": "2022-02-13T09:22:43.585191Z",
     "shell.execute_reply.started": "2022-02-13T09:20:35.886611Z"
    },
    "papermill": {
     "duration": 0.110847,
     "end_time": "2022-02-13T09:22:43.585759",
     "exception": false,
     "start_time": "2022-02-13T09:22:43.474912",
     "status": "completed"
    },
    "tags": []
   },
   "outputs": [
    {
     "data": {
      "text/html": [
       "<div>\n",
       "<style scoped>\n",
       "    .dataframe tbody tr th:only-of-type {\n",
       "        vertical-align: middle;\n",
       "    }\n",
       "\n",
       "    .dataframe tbody tr th {\n",
       "        vertical-align: top;\n",
       "    }\n",
       "\n",
       "    .dataframe thead th {\n",
       "        text-align: right;\n",
       "    }\n",
       "</style>\n",
       "<table border=\"1\" class=\"dataframe\">\n",
       "  <thead>\n",
       "    <tr style=\"text-align: right;\">\n",
       "      <th></th>\n",
       "      <th>id</th>\n",
       "      <th>sequence</th>\n",
       "      <th>structure</th>\n",
       "      <th>score</th>\n",
       "      <th>package</th>\n",
       "    </tr>\n",
       "  </thead>\n",
       "  <tbody>\n",
       "    <tr>\n",
       "      <th>0</th>\n",
       "      <td>id_001f94081</td>\n",
       "      <td>GGAAAAGCUCUAAUAACAGGAGACUAGGACUACGUAUUUCUAGGUA...</td>\n",
       "      <td>.................................................</td>\n",
       "      <td>0.557927</td>\n",
       "      <td>contrafold_2</td>\n",
       "    </tr>\n",
       "    <tr>\n",
       "      <th>1</th>\n",
       "      <td>id_001f94081</td>\n",
       "      <td>GGAAAAGCUCUAAUAACAGGAGACUAGGACUACGUAUUUCUAGGUA...</td>\n",
       "      <td>.......((((.......))))...........................</td>\n",
       "      <td>0.628510</td>\n",
       "      <td>vienna_2</td>\n",
       "    </tr>\n",
       "    <tr>\n",
       "      <th>2</th>\n",
       "      <td>id_001f94081</td>\n",
       "      <td>GGAAAAGCUCUAAUAACAGGAGACUAGGACUACGUAUUUCUAGGUA...</td>\n",
       "      <td>.....((((((.......)))).))................((......</td>\n",
       "      <td>0.698580</td>\n",
       "      <td>rnastructure</td>\n",
       "    </tr>\n",
       "    <tr>\n",
       "      <th>3</th>\n",
       "      <td>id_0049f53ba</td>\n",
       "      <td>GGAAAAAGCGCGCGCGGUUAGCGCGCGCUUUUGCGCGCGCUGUACC...</td>\n",
       "      <td>.....(((((((((((((((((((((((....)))))))))).)))...</td>\n",
       "      <td>0.892884</td>\n",
       "      <td>contrafold_2</td>\n",
       "    </tr>\n",
       "    <tr>\n",
       "      <th>4</th>\n",
       "      <td>id_0049f53ba</td>\n",
       "      <td>GGAAAAAGCGCGCGCGGUUAGCGCGCGCUUUUGCGCGCGCUGUACC...</td>\n",
       "      <td>.....(((((((((((((((((((((((....)))))))))).)))...</td>\n",
       "      <td>0.942417</td>\n",
       "      <td>vienna_2</td>\n",
       "    </tr>\n",
       "    <tr>\n",
       "      <th>5</th>\n",
       "      <td>id_0049f53ba</td>\n",
       "      <td>GGAAAAAGCGCGCGCGGUUAGCGCGCGCUUUUGCGCGCGCUGUACC...</td>\n",
       "      <td>.....(((((((((((((((((((((((....)))))))))).)))...</td>\n",
       "      <td>0.970880</td>\n",
       "      <td>rnastructure</td>\n",
       "    </tr>\n",
       "    <tr>\n",
       "      <th>6</th>\n",
       "      <td>id_006f36f57</td>\n",
       "      <td>GGAAAGUGCUCAGAUAAGCUAAGCUCGAAUAGCAAUCGAAUAGAAU...</td>\n",
       "      <td>.................................................</td>\n",
       "      <td>0.523437</td>\n",
       "      <td>contrafold_2</td>\n",
       "    </tr>\n",
       "    <tr>\n",
       "      <th>7</th>\n",
       "      <td>id_006f36f57</td>\n",
       "      <td>GGAAAGUGCUCAGAUAAGCUAAGCUCGAAUAGCAAUCGAAUAGAAU...</td>\n",
       "      <td>...................................((((......)...</td>\n",
       "      <td>0.580348</td>\n",
       "      <td>vienna_2</td>\n",
       "    </tr>\n",
       "    <tr>\n",
       "      <th>8</th>\n",
       "      <td>id_006f36f57</td>\n",
       "      <td>GGAAAGUGCUCAGAUAAGCUAAGCUCGAAUAGCAAUCGAAUAGAAU...</td>\n",
       "      <td>.....((((.((.....((((.(((.....)))..((((......)...</td>\n",
       "      <td>0.873256</td>\n",
       "      <td>rnastructure</td>\n",
       "    </tr>\n",
       "    <tr>\n",
       "      <th>9</th>\n",
       "      <td>id_0082d463b</td>\n",
       "      <td>GGAAAAGCGCGCGCGCGCGCGCGAAAAAGCGCGCGCGCGCGCGCGC...</td>\n",
       "      <td>.................................................</td>\n",
       "      <td>0.432161</td>\n",
       "      <td>contrafold_2</td>\n",
       "    </tr>\n",
       "  </tbody>\n",
       "</table>\n",
       "</div>"
      ],
      "text/plain": [
       "             id                                           sequence  \\\n",
       "0  id_001f94081  GGAAAAGCUCUAAUAACAGGAGACUAGGACUACGUAUUUCUAGGUA...   \n",
       "1  id_001f94081  GGAAAAGCUCUAAUAACAGGAGACUAGGACUACGUAUUUCUAGGUA...   \n",
       "2  id_001f94081  GGAAAAGCUCUAAUAACAGGAGACUAGGACUACGUAUUUCUAGGUA...   \n",
       "3  id_0049f53ba  GGAAAAAGCGCGCGCGGUUAGCGCGCGCUUUUGCGCGCGCUGUACC...   \n",
       "4  id_0049f53ba  GGAAAAAGCGCGCGCGGUUAGCGCGCGCUUUUGCGCGCGCUGUACC...   \n",
       "5  id_0049f53ba  GGAAAAAGCGCGCGCGGUUAGCGCGCGCUUUUGCGCGCGCUGUACC...   \n",
       "6  id_006f36f57  GGAAAGUGCUCAGAUAAGCUAAGCUCGAAUAGCAAUCGAAUAGAAU...   \n",
       "7  id_006f36f57  GGAAAGUGCUCAGAUAAGCUAAGCUCGAAUAGCAAUCGAAUAGAAU...   \n",
       "8  id_006f36f57  GGAAAGUGCUCAGAUAAGCUAAGCUCGAAUAGCAAUCGAAUAGAAU...   \n",
       "9  id_0082d463b  GGAAAAGCGCGCGCGCGCGCGCGAAAAAGCGCGCGCGCGCGCGCGC...   \n",
       "\n",
       "                                           structure     score       package  \n",
       "0  .................................................  0.557927  contrafold_2  \n",
       "1  .......((((.......))))...........................  0.628510      vienna_2  \n",
       "2  .....((((((.......)))).))................((......  0.698580  rnastructure  \n",
       "3  .....(((((((((((((((((((((((....)))))))))).)))...  0.892884  contrafold_2  \n",
       "4  .....(((((((((((((((((((((((....)))))))))).)))...  0.942417      vienna_2  \n",
       "5  .....(((((((((((((((((((((((....)))))))))).)))...  0.970880  rnastructure  \n",
       "6  .................................................  0.523437  contrafold_2  \n",
       "7  ...................................((((......)...  0.580348      vienna_2  \n",
       "8  .....((((.((.....((((.(((.....)))..((((......)...  0.873256  rnastructure  \n",
       "9  .................................................  0.432161  contrafold_2  "
      ]
     },
     "execution_count": 15,
     "metadata": {},
     "output_type": "execute_result"
    }
   ],
   "source": [
    "structure_df.head(10)"
   ]
  },
  {
   "cell_type": "markdown",
   "metadata": {
    "papermill": {
     "duration": 0.088225,
     "end_time": "2022-02-13T09:22:43.763053",
     "exception": false,
     "start_time": "2022-02-13T09:22:43.674828",
     "status": "completed"
    },
    "tags": []
   },
   "source": [
    " While the most-probable structures of all strings for each package will be stored separately in a `DataFrame`, namely, `structure_df_list` for easy usage. Each element of `structure_df_list` corresponds to one package as shown below."
   ]
  },
  {
   "cell_type": "code",
   "execution_count": 16,
   "metadata": {
    "execution": {
     "iopub.execute_input": "2022-02-13T09:22:43.950250Z",
     "iopub.status.busy": "2022-02-13T09:22:43.949474Z",
     "iopub.status.idle": "2022-02-13T09:22:43.955454Z",
     "shell.execute_reply": "2022-02-13T09:22:43.954784Z",
     "shell.execute_reply.started": "2022-02-13T09:20:35.908315Z"
    },
    "papermill": {
     "duration": 0.10333,
     "end_time": "2022-02-13T09:22:43.955577",
     "exception": false,
     "start_time": "2022-02-13T09:22:43.852247",
     "status": "completed"
    },
    "tags": []
   },
   "outputs": [
    {
     "name": "stdout",
     "output_type": "stream",
     "text": [
      "(20, 5)\n",
      "(20, 5)\n",
      "(20, 5)\n"
     ]
    }
   ],
   "source": [
    "structure_df_list = []\n",
    "for package in packages:\n",
    "    structure_df_list.append(structure_df[structure_df['package']==package])\n",
    "    print(structure_df_list[-1].shape)\n"
   ]
  },
  {
   "cell_type": "markdown",
   "metadata": {
    "papermill": {
     "duration": 0.088935,
     "end_time": "2022-02-13T09:22:44.136251",
     "exception": false,
     "start_time": "2022-02-13T09:22:44.047316",
     "status": "completed"
    },
    "tags": []
   },
   "source": [
    "Now, we can investigate the resulted most-probable structure for each string here! The structure is encoded in [a **Dot-Bracket** format](https://www.tbi.univie.ac.at/RNA/ViennaRNA/doc/html/rna_structure_notations.html). The Dot-Bracket notation as introduced in the early times of the ViennaRNA Package denotes base pairs by matching pairs of pair () and unpaired nucleotides by dots. Note that most probable structures of the same id but different packages may not be the same."
   ]
  },
  {
   "cell_type": "code",
   "execution_count": 17,
   "metadata": {
    "execution": {
     "iopub.execute_input": "2022-02-13T09:22:44.329341Z",
     "iopub.status.busy": "2022-02-13T09:22:44.328584Z",
     "iopub.status.idle": "2022-02-13T09:22:44.334086Z",
     "shell.execute_reply": "2022-02-13T09:22:44.333340Z",
     "shell.execute_reply.started": "2022-02-13T09:20:35.925952Z"
    },
    "papermill": {
     "duration": 0.107831,
     "end_time": "2022-02-13T09:22:44.334207",
     "exception": false,
     "start_time": "2022-02-13T09:22:44.226376",
     "status": "completed"
    },
    "tags": []
   },
   "outputs": [
    {
     "name": "stdout",
     "output_type": "stream",
     "text": [
      "             id                                           sequence  \\\n",
      "0  id_001f94081  GGAAAAGCUCUAAUAACAGGAGACUAGGACUACGUAUUUCUAGGUA...   \n",
      "3  id_0049f53ba  GGAAAAAGCGCGCGCGGUUAGCGCGCGCUUUUGCGCGCGCUGUACC...   \n",
      "6  id_006f36f57  GGAAAGUGCUCAGAUAAGCUAAGCUCGAAUAGCAAUCGAAUAGAAU...   \n",
      "\n",
      "                                           structure     score       package  \n",
      "0  .................................................  0.557927  contrafold_2  \n",
      "3  .....(((((((((((((((((((((((....)))))))))).)))...  0.892884  contrafold_2  \n",
      "6  .................................................  0.523437  contrafold_2  \n",
      "             id                                           sequence  \\\n",
      "1  id_001f94081  GGAAAAGCUCUAAUAACAGGAGACUAGGACUACGUAUUUCUAGGUA...   \n",
      "4  id_0049f53ba  GGAAAAAGCGCGCGCGGUUAGCGCGCGCUUUUGCGCGCGCUGUACC...   \n",
      "7  id_006f36f57  GGAAAGUGCUCAGAUAAGCUAAGCUCGAAUAGCAAUCGAAUAGAAU...   \n",
      "\n",
      "                                           structure     score   package  \n",
      "1  .......((((.......))))...........................  0.628510  vienna_2  \n",
      "4  .....(((((((((((((((((((((((....)))))))))).)))...  0.942417  vienna_2  \n",
      "7  ...................................((((......)...  0.580348  vienna_2  \n",
      "             id                                           sequence  \\\n",
      "2  id_001f94081  GGAAAAGCUCUAAUAACAGGAGACUAGGACUACGUAUUUCUAGGUA...   \n",
      "5  id_0049f53ba  GGAAAAAGCGCGCGCGGUUAGCGCGCGCUUUUGCGCGCGCUGUACC...   \n",
      "8  id_006f36f57  GGAAAGUGCUCAGAUAAGCUAAGCUCGAAUAGCAAUCGAAUAGAAU...   \n",
      "\n",
      "                                           structure     score       package  \n",
      "2  .....((((((.......)))).))................((......  0.698580  rnastructure  \n",
      "5  .....(((((((((((((((((((((((....)))))))))).)))...  0.970880  rnastructure  \n",
      "8  .....((((.((.....((((.(((.....)))..((((......)...  0.873256  rnastructure  \n"
     ]
    }
   ],
   "source": [
    "for i, package in enumerate(packages):\n",
    "    print(structure_df_list[i].head(3))"
   ]
  },
  {
   "cell_type": "markdown",
   "metadata": {
    "papermill": {
     "duration": 0.089544,
     "end_time": "2022-02-13T09:22:44.514789",
     "exception": false,
     "start_time": "2022-02-13T09:22:44.425245",
     "status": "completed"
    },
    "tags": []
   },
   "source": [
    "If the above print() command is not so intutive, we can also visualize the most-probable structure easily  🤩, even though we won't use the visualization in our feature extraction procedure."
   ]
  },
  {
   "cell_type": "code",
   "execution_count": 18,
   "metadata": {
    "execution": {
     "iopub.execute_input": "2022-02-13T09:22:44.698775Z",
     "iopub.status.busy": "2022-02-13T09:22:44.698084Z",
     "iopub.status.idle": "2022-02-13T09:22:45.623530Z",
     "shell.execute_reply": "2022-02-13T09:22:45.624056Z",
     "shell.execute_reply.started": "2022-02-13T09:20:35.949063Z"
    },
    "papermill": {
     "duration": 1.017704,
     "end_time": "2022-02-13T09:22:45.624197",
     "exception": false,
     "start_time": "2022-02-13T09:22:44.606493",
     "status": "completed"
    },
    "tags": []
   },
   "outputs": [
    {
     "name": "stdout",
     "output_type": "stream",
     "text": [
      "GGAAAAGCUCUAAUAACAGGAGACUAGGACUACGUAUUUCUAGGUAACUGGAAUAACCCAUACCAGCAGUUAGAGUUCGCUCUAACAAAAGAAACAACAACAACAAC\n",
      "....................................................................(((((((....))))))).....................\n"
     ]
    },
    {
     "data": {
      "image/png": "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\n",
      "text/plain": [
       "<Figure size 847.749x847.749 with 1 Axes>"
      ]
     },
     "metadata": {
      "needs_background": "light"
     },
     "output_type": "display_data"
    }
   ],
   "source": [
    "from draw import draw_struct\n",
    "sequence, structure = structure_df.iloc[0][['sequence', 'structure']]\n",
    "print(sequence)\n",
    "print(structure)\n",
    "draw_struct(sequence, structure,  cmap='plasma')"
   ]
  },
  {
   "cell_type": "code",
   "execution_count": 19,
   "metadata": {
    "execution": {
     "iopub.execute_input": "2022-02-13T09:22:45.895118Z",
     "iopub.status.busy": "2022-02-13T09:22:45.894435Z",
     "iopub.status.idle": "2022-02-13T09:22:47.586601Z",
     "shell.execute_reply": "2022-02-13T09:22:47.587125Z",
     "shell.execute_reply.started": "2022-02-13T09:20:36.918987Z"
    },
    "papermill": {
     "duration": 1.829407,
     "end_time": "2022-02-13T09:22:47.587276",
     "exception": false,
     "start_time": "2022-02-13T09:22:45.757869",
     "status": "completed"
    },
    "tags": []
   },
   "outputs": [
    {
     "name": "stdout",
     "output_type": "stream",
     "text": [
      "contrafold_2\n",
      "     20      20     340\r\n",
      "id_00073f8be.npy\r\n",
      "id_000ae4237.npy\r\n",
      "id_00131c573.npy\r\n",
      "id_00181fd34.npy\r\n",
      "id_001f94081.npy\r\n",
      "id_0020473f7.npy\r\n",
      "id_002852873.npy\r\n",
      "id_0031191b7.npy\r\n",
      "id_003ab2445.npy\r\n",
      "id_0049f53ba.npy\r\n",
      "vienna_2\n",
      "     20      20     340\r\n",
      "id_00073f8be.npy\r\n",
      "id_000ae4237.npy\r\n",
      "id_00131c573.npy\r\n",
      "id_00181fd34.npy\r\n",
      "id_001f94081.npy\r\n",
      "id_0020473f7.npy\r\n",
      "id_002852873.npy\r\n",
      "id_0031191b7.npy\r\n",
      "id_003ab2445.npy\r\n",
      "id_0049f53ba.npy\r\n",
      "rnastructure\n",
      "     20      20     340\r\n",
      "id_00073f8be.npy\r\n",
      "id_000ae4237.npy\r\n",
      "id_00131c573.npy\r\n",
      "id_00181fd34.npy\r\n",
      "id_001f94081.npy\r\n",
      "id_0020473f7.npy\r\n",
      "id_002852873.npy\r\n",
      "id_0031191b7.npy\r\n",
      "id_003ab2445.npy\r\n",
      "id_0049f53ba.npy\r\n"
     ]
    }
   ],
   "source": [
    "# Finally, let us investigate the saved bpps files\n",
    "for i, package in enumerate(packages):\n",
    "    print(package)\n",
    "    !ls {BPPS_DIR}{package} | wc\n",
    "    !ls {BPPS_DIR}{package} | head"
   ]
  },
  {
   "cell_type": "markdown",
   "metadata": {
    "papermill": {
     "duration": 0.137224,
     "end_time": "2022-02-13T09:22:47.864001",
     "exception": false,
     "start_time": "2022-02-13T09:22:47.726777",
     "status": "completed"
    },
    "tags": []
   },
   "source": [
    "## 2.2 Getting Node Features\n",
    "\n",
    "Now we will extract one-hot ACGU vector as well as the probabilisttic loop-type vector using `CapR` package. The`CapR` is a shell script command which could be run one string at a time with specified input and output files, and we automate the run in the `run_CapR` function and store the probabilistic output with a pandas' dataframe.\n"
   ]
  },
  {
   "cell_type": "code",
   "execution_count": 20,
   "metadata": {
    "execution": {
     "iopub.execute_input": "2022-02-13T09:22:48.143054Z",
     "iopub.status.busy": "2022-02-13T09:22:48.142172Z",
     "iopub.status.idle": "2022-02-13T09:22:48.149188Z",
     "shell.execute_reply": "2022-02-13T09:22:48.148508Z",
     "shell.execute_reply.started": "2022-02-13T09:20:41.440958Z"
    },
    "papermill": {
     "duration": 0.147367,
     "end_time": "2022-02-13T09:22:48.149307",
     "exception": false,
     "start_time": "2022-02-13T09:22:48.001940",
     "status": "completed"
    },
    "tags": []
   },
   "outputs": [],
   "source": [
    "NODE_DIR = WORKING_DIR+'node_features/'\n",
    "os.mkdir(NODE_DIR)"
   ]
  },
  {
   "cell_type": "code",
   "execution_count": 21,
   "metadata": {
    "_kg_hide-output": true,
    "execution": {
     "iopub.execute_input": "2022-02-13T09:22:48.429132Z",
     "iopub.status.busy": "2022-02-13T09:22:48.428438Z",
     "iopub.status.idle": "2022-02-13T09:22:48.434887Z",
     "shell.execute_reply": "2022-02-13T09:22:48.435445Z",
     "shell.execute_reply.started": "2022-02-13T09:20:41.448731Z"
    },
    "papermill": {
     "duration": 0.147573,
     "end_time": "2022-02-13T09:22:48.435597",
     "exception": false,
     "start_time": "2022-02-13T09:22:48.288024",
     "status": "completed"
    },
    "tags": []
   },
   "outputs": [],
   "source": [
    "def run_CapR(rna_id, rna_string, max_seq_len=1024):\n",
    "    in_file = '%s.fa' % rna_id\n",
    "    out_file = '%s.out' % rna_id\n",
    "             \n",
    "    fp = open(in_file, \"w\")\n",
    "    fp.write('>%s\\n' % rna_id)\n",
    "    fp.write(rna_string)\n",
    "    fp.close()\n",
    "    \n",
    "    subprocess.run('/kaggle/working/CapR/CapR %s %s %d' % (in_file, out_file, max_seq_len),\n",
    "                   shell=True,capture_output=False)\n",
    "             \n",
    "    df = pd.read_csv(out_file, skiprows=1,\n",
    "                     header=None, delim_whitespace=True,\n",
    "            )\n",
    "    df2 = df.T[1:]\n",
    "    df2.columns = df.T.iloc[0].values\n",
    "    \n",
    "    return df2"
   ]
  },
  {
   "cell_type": "markdown",
   "metadata": {
    "papermill": {
     "duration": 0.13783,
     "end_time": "2022-02-13T09:22:48.778894",
     "exception": false,
     "start_time": "2022-02-13T09:22:48.641064",
     "status": "completed"
    },
    "tags": []
   },
   "source": [
    "We can test run the function just to have fun :)"
   ]
  },
  {
   "cell_type": "code",
   "execution_count": 22,
   "metadata": {
    "execution": {
     "iopub.execute_input": "2022-02-13T09:22:49.061425Z",
     "iopub.status.busy": "2022-02-13T09:22:49.060745Z",
     "iopub.status.idle": "2022-02-13T09:22:49.096816Z",
     "shell.execute_reply": "2022-02-13T09:22:49.097221Z",
     "shell.execute_reply.started": "2022-02-13T09:20:41.460574Z"
    },
    "papermill": {
     "duration": 0.179295,
     "end_time": "2022-02-13T09:22:49.097353",
     "exception": false,
     "start_time": "2022-02-13T09:22:48.918058",
     "status": "completed"
    },
    "tags": []
   },
   "outputs": [
    {
     "data": {
      "text/html": [
       "<div>\n",
       "<style scoped>\n",
       "    .dataframe tbody tr th:only-of-type {\n",
       "        vertical-align: middle;\n",
       "    }\n",
       "\n",
       "    .dataframe tbody tr th {\n",
       "        vertical-align: top;\n",
       "    }\n",
       "\n",
       "    .dataframe thead th {\n",
       "        text-align: right;\n",
       "    }\n",
       "</style>\n",
       "<table border=\"1\" class=\"dataframe\">\n",
       "  <thead>\n",
       "    <tr style=\"text-align: right;\">\n",
       "      <th></th>\n",
       "      <th>Bulge</th>\n",
       "      <th>Exterior</th>\n",
       "      <th>Hairpin</th>\n",
       "      <th>Internal</th>\n",
       "      <th>Multibranch</th>\n",
       "      <th>Stem</th>\n",
       "    </tr>\n",
       "  </thead>\n",
       "  <tbody>\n",
       "    <tr>\n",
       "      <th>1</th>\n",
       "      <td>0</td>\n",
       "      <td>0.999999</td>\n",
       "      <td>0</td>\n",
       "      <td>0</td>\n",
       "      <td>0</td>\n",
       "      <td>1.08368e-06</td>\n",
       "    </tr>\n",
       "    <tr>\n",
       "      <th>2</th>\n",
       "      <td>3.51536e-10</td>\n",
       "      <td>0.00773274</td>\n",
       "      <td>4.72559e-07</td>\n",
       "      <td>0</td>\n",
       "      <td>0</td>\n",
       "      <td>0.992267</td>\n",
       "    </tr>\n",
       "    <tr>\n",
       "      <th>3</th>\n",
       "      <td>1.32654e-05</td>\n",
       "      <td>0.00285747</td>\n",
       "      <td>0.000320406</td>\n",
       "      <td>1.09517e-05</td>\n",
       "      <td>0</td>\n",
       "      <td>0.996798</td>\n",
       "    </tr>\n",
       "    <tr>\n",
       "      <th>4</th>\n",
       "      <td>0</td>\n",
       "      <td>0.00282882</td>\n",
       "      <td>0.0619287</td>\n",
       "      <td>0</td>\n",
       "      <td>0</td>\n",
       "      <td>0.935242</td>\n",
       "    </tr>\n",
       "    <tr>\n",
       "      <th>5</th>\n",
       "      <td>0</td>\n",
       "      <td>0.00282882</td>\n",
       "      <td>0.997171</td>\n",
       "      <td>0</td>\n",
       "      <td>0</td>\n",
       "      <td>6.32224e-08</td>\n",
       "    </tr>\n",
       "    <tr>\n",
       "      <th>6</th>\n",
       "      <td>0</td>\n",
       "      <td>0.00282888</td>\n",
       "      <td>0.997171</td>\n",
       "      <td>0</td>\n",
       "      <td>0</td>\n",
       "      <td>3.91568e-07</td>\n",
       "    </tr>\n",
       "    <tr>\n",
       "      <th>7</th>\n",
       "      <td>3.51536e-10</td>\n",
       "      <td>0.0028291</td>\n",
       "      <td>0.99717</td>\n",
       "      <td>0</td>\n",
       "      <td>0</td>\n",
       "      <td>1.37588e-06</td>\n",
       "    </tr>\n",
       "    <tr>\n",
       "      <th>8</th>\n",
       "      <td>1.93061e-08</td>\n",
       "      <td>0.00282978</td>\n",
       "      <td>0.99566</td>\n",
       "      <td>0</td>\n",
       "      <td>0</td>\n",
       "      <td>0.00150992</td>\n",
       "    </tr>\n",
       "    <tr>\n",
       "      <th>9</th>\n",
       "      <td>3.3393e-06</td>\n",
       "      <td>0.00283134</td>\n",
       "      <td>0.161654</td>\n",
       "      <td>1.03792e-07</td>\n",
       "      <td>0</td>\n",
       "      <td>0.835511</td>\n",
       "    </tr>\n",
       "    <tr>\n",
       "      <th>10</th>\n",
       "      <td>0.00048914</td>\n",
       "      <td>0.00289224</td>\n",
       "      <td>0.00716014</td>\n",
       "      <td>9.67593e-06</td>\n",
       "      <td>0</td>\n",
       "      <td>0.989449</td>\n",
       "    </tr>\n",
       "    <tr>\n",
       "      <th>11</th>\n",
       "      <td>0.000505686</td>\n",
       "      <td>0.00990831</td>\n",
       "      <td>4.97728e-05</td>\n",
       "      <td>1.18122e-06</td>\n",
       "      <td>0</td>\n",
       "      <td>0.989535</td>\n",
       "    </tr>\n",
       "    <tr>\n",
       "      <th>12</th>\n",
       "      <td>0</td>\n",
       "      <td>0.891699</td>\n",
       "      <td>0</td>\n",
       "      <td>0</td>\n",
       "      <td>0</td>\n",
       "      <td>0.108301</td>\n",
       "    </tr>\n",
       "  </tbody>\n",
       "</table>\n",
       "</div>"
      ],
      "text/plain": [
       "          Bulge    Exterior      Hairpin     Internal Multibranch         Stem\n",
       "1             0    0.999999            0            0           0  1.08368e-06\n",
       "2   3.51536e-10  0.00773274  4.72559e-07            0           0     0.992267\n",
       "3   1.32654e-05  0.00285747  0.000320406  1.09517e-05           0     0.996798\n",
       "4             0  0.00282882    0.0619287            0           0     0.935242\n",
       "5             0  0.00282882     0.997171            0           0  6.32224e-08\n",
       "6             0  0.00282888     0.997171            0           0  3.91568e-07\n",
       "7   3.51536e-10   0.0028291      0.99717            0           0  1.37588e-06\n",
       "8   1.93061e-08  0.00282978      0.99566            0           0   0.00150992\n",
       "9    3.3393e-06  0.00283134     0.161654  1.03792e-07           0     0.835511\n",
       "10   0.00048914  0.00289224   0.00716014  9.67593e-06           0     0.989449\n",
       "11  0.000505686  0.00990831  4.97728e-05  1.18122e-06           0     0.989535\n",
       "12            0    0.891699            0            0           0     0.108301"
      ]
     },
     "execution_count": 22,
     "metadata": {},
     "output_type": "execute_result"
    }
   ],
   "source": [
    "test_string = 'AGGGUUUUCCCC'\n",
    "df = run_CapR('test_id_1234',test_string )\n",
    "df.head(len(test_string ))"
   ]
  },
  {
   "cell_type": "markdown",
   "metadata": {
    "papermill": {
     "duration": 0.093321,
     "end_time": "2022-02-13T09:22:49.285412",
     "exception": false,
     "start_time": "2022-02-13T09:22:49.192091",
     "status": "completed"
    },
    "tags": []
   },
   "source": [
    "Next, `extract_rna_node_features` will combine the above `run_CapR` with one-hot 'AGUC' vector. We also can have the most-probable structure in DotBracket notation as one-hot vector as an additional option to node features. This `extract_rna_node_features` will save a `.csv` file for each string in the `NODE_DIR` directory"
   ]
  },
  {
   "cell_type": "code",
   "execution_count": 23,
   "metadata": {
    "execution": {
     "iopub.execute_input": "2022-02-13T09:22:49.474594Z",
     "iopub.status.busy": "2022-02-13T09:22:49.474114Z",
     "iopub.status.idle": "2022-02-13T09:22:49.693027Z",
     "shell.execute_reply": "2022-02-13T09:22:49.693435Z",
     "shell.execute_reply.started": "2022-02-13T09:20:41.671380Z"
    },
    "papermill": {
     "duration": 0.315389,
     "end_time": "2022-02-13T09:22:49.693572",
     "exception": false,
     "start_time": "2022-02-13T09:22:49.378183",
     "status": "completed"
    },
    "tags": []
   },
   "outputs": [],
   "source": [
    "def extract_rna_node_features(rna_id, rna_string, mfe_structure=None):\n",
    "    # looptype features\n",
    "    df = run_CapR(rna_id, rna_string)\n",
    "    \n",
    "    # onehot AGCU features\n",
    "    def onehot_np(length, i):\n",
    "        vect = [0] * length\n",
    "        vect[i] = 1\n",
    "        return np.array(vect)\n",
    "    \n",
    "    base_vocab = 'ACGU'\n",
    "    token2onehot = {x:onehot_np(len(base_vocab), i) for i, x in enumerate(base_vocab)}\n",
    "    out = list(map(lambda y : token2onehot[y], rna_string))\n",
    "    df[list(base_vocab)] = np.array(out)\n",
    "    \n",
    "    # onehot mfe_structure features (optional)\n",
    "    if mfe_structure is not None:\n",
    "        structure_vocab = '(.)'\n",
    "        token2onehot = {x:onehot_np(len(structure_vocab), i) for i, x in enumerate(structure_vocab)}\n",
    "        out = list(map(lambda y : token2onehot[y], mfe_structure))\n",
    "        df[list(structure_vocab)] = np.array(out)\n",
    "    \n",
    "    return df"
   ]
  },
  {
   "cell_type": "markdown",
   "metadata": {
    "papermill": {
     "duration": 0.092109,
     "end_time": "2022-02-13T09:22:49.878268",
     "exception": false,
     "start_time": "2022-02-13T09:22:49.786159",
     "status": "completed"
    },
    "tags": []
   },
   "source": [
    "Run for another fun to see the complete sequence of node features for each character 🚀 💥 🚀!! "
   ]
  },
  {
   "cell_type": "code",
   "execution_count": 24,
   "metadata": {
    "execution": {
     "iopub.execute_input": "2022-02-13T09:22:50.083405Z",
     "iopub.status.busy": "2022-02-13T09:22:50.082910Z",
     "iopub.status.idle": "2022-02-13T09:22:50.130259Z",
     "shell.execute_reply": "2022-02-13T09:22:50.130705Z",
     "shell.execute_reply.started": "2022-02-13T09:20:41.684026Z"
    },
    "papermill": {
     "duration": 0.160477,
     "end_time": "2022-02-13T09:22:50.130835",
     "exception": false,
     "start_time": "2022-02-13T09:22:49.970358",
     "status": "completed"
    },
    "tags": []
   },
   "outputs": [
    {
     "name": "stdout",
     "output_type": "stream",
     "text": [
      "(21, 13)\n"
     ]
    },
    {
     "data": {
      "text/html": [
       "<div>\n",
       "<style scoped>\n",
       "    .dataframe tbody tr th:only-of-type {\n",
       "        vertical-align: middle;\n",
       "    }\n",
       "\n",
       "    .dataframe tbody tr th {\n",
       "        vertical-align: top;\n",
       "    }\n",
       "\n",
       "    .dataframe thead th {\n",
       "        text-align: right;\n",
       "    }\n",
       "</style>\n",
       "<table border=\"1\" class=\"dataframe\">\n",
       "  <thead>\n",
       "    <tr style=\"text-align: right;\">\n",
       "      <th></th>\n",
       "      <th>Bulge</th>\n",
       "      <th>Exterior</th>\n",
       "      <th>Hairpin</th>\n",
       "      <th>Internal</th>\n",
       "      <th>Multibranch</th>\n",
       "      <th>Stem</th>\n",
       "      <th>A</th>\n",
       "      <th>C</th>\n",
       "      <th>G</th>\n",
       "      <th>U</th>\n",
       "      <th>(</th>\n",
       "      <th>.</th>\n",
       "      <th>)</th>\n",
       "    </tr>\n",
       "  </thead>\n",
       "  <tbody>\n",
       "    <tr>\n",
       "      <th>1</th>\n",
       "      <td>0</td>\n",
       "      <td>0.721379</td>\n",
       "      <td>0</td>\n",
       "      <td>0</td>\n",
       "      <td>0</td>\n",
       "      <td>0.278621</td>\n",
       "      <td>1</td>\n",
       "      <td>0</td>\n",
       "      <td>0</td>\n",
       "      <td>0</td>\n",
       "      <td>1</td>\n",
       "      <td>0</td>\n",
       "      <td>0</td>\n",
       "    </tr>\n",
       "    <tr>\n",
       "      <th>2</th>\n",
       "      <td>0.000246423</td>\n",
       "      <td>0.420411</td>\n",
       "      <td>1.54179e-05</td>\n",
       "      <td>0.00563558</td>\n",
       "      <td>2.49689e-09</td>\n",
       "      <td>0.573691</td>\n",
       "      <td>0</td>\n",
       "      <td>0</td>\n",
       "      <td>1</td>\n",
       "      <td>0</td>\n",
       "      <td>0</td>\n",
       "      <td>1</td>\n",
       "      <td>0</td>\n",
       "    </tr>\n",
       "    <tr>\n",
       "      <th>3</th>\n",
       "      <td>3.47289e-05</td>\n",
       "      <td>0.326347</td>\n",
       "      <td>0.00704892</td>\n",
       "      <td>0.103695</td>\n",
       "      <td>1.06177e-07</td>\n",
       "      <td>0.562873</td>\n",
       "      <td>0</td>\n",
       "      <td>0</td>\n",
       "      <td>1</td>\n",
       "      <td>0</td>\n",
       "      <td>0</td>\n",
       "      <td>1</td>\n",
       "      <td>0</td>\n",
       "    </tr>\n",
       "    <tr>\n",
       "      <th>4</th>\n",
       "      <td>1.41643e-05</td>\n",
       "      <td>0.322814</td>\n",
       "      <td>0.00735739</td>\n",
       "      <td>0.6074</td>\n",
       "      <td>1.82353e-07</td>\n",
       "      <td>0.0624141</td>\n",
       "      <td>0</td>\n",
       "      <td>0</td>\n",
       "      <td>1</td>\n",
       "      <td>0</td>\n",
       "      <td>0</td>\n",
       "      <td>1</td>\n",
       "      <td>0</td>\n",
       "    </tr>\n",
       "    <tr>\n",
       "      <th>5</th>\n",
       "      <td>4.15321e-06</td>\n",
       "      <td>0.322418</td>\n",
       "      <td>0.00748593</td>\n",
       "      <td>0.580503</td>\n",
       "      <td>2.56161e-07</td>\n",
       "      <td>0.0895893</td>\n",
       "      <td>0</td>\n",
       "      <td>0</td>\n",
       "      <td>1</td>\n",
       "      <td>0</td>\n",
       "      <td>0</td>\n",
       "      <td>1</td>\n",
       "      <td>0</td>\n",
       "    </tr>\n",
       "    <tr>\n",
       "      <th>6</th>\n",
       "      <td>0.000314452</td>\n",
       "      <td>0.0272247</td>\n",
       "      <td>0.00777131</td>\n",
       "      <td>0.00334634</td>\n",
       "      <td>2.01279e-08</td>\n",
       "      <td>0.961343</td>\n",
       "      <td>0</td>\n",
       "      <td>1</td>\n",
       "      <td>0</td>\n",
       "      <td>0</td>\n",
       "      <td>0</td>\n",
       "      <td>1</td>\n",
       "      <td>0</td>\n",
       "    </tr>\n",
       "    <tr>\n",
       "      <th>7</th>\n",
       "      <td>0.000333433</td>\n",
       "      <td>0.0221736</td>\n",
       "      <td>0.00777751</td>\n",
       "      <td>0.000799619</td>\n",
       "      <td>1.76893e-09</td>\n",
       "      <td>0.968916</td>\n",
       "      <td>0</td>\n",
       "      <td>1</td>\n",
       "      <td>0</td>\n",
       "      <td>0</td>\n",
       "      <td>0</td>\n",
       "      <td>1</td>\n",
       "      <td>0</td>\n",
       "    </tr>\n",
       "    <tr>\n",
       "      <th>8</th>\n",
       "      <td>0.000383505</td>\n",
       "      <td>0.0242433</td>\n",
       "      <td>0.30224</td>\n",
       "      <td>0.000116265</td>\n",
       "      <td>1.12233e-07</td>\n",
       "      <td>0.673017</td>\n",
       "      <td>0</td>\n",
       "      <td>0</td>\n",
       "      <td>0</td>\n",
       "      <td>1</td>\n",
       "      <td>0</td>\n",
       "      <td>1</td>\n",
       "      <td>0</td>\n",
       "    </tr>\n",
       "    <tr>\n",
       "      <th>9</th>\n",
       "      <td>1.44264e-05</td>\n",
       "      <td>0.0282549</td>\n",
       "      <td>0.967996</td>\n",
       "      <td>3.01338e-05</td>\n",
       "      <td>4.44128e-08</td>\n",
       "      <td>0.00370413</td>\n",
       "      <td>0</td>\n",
       "      <td>0</td>\n",
       "      <td>0</td>\n",
       "      <td>1</td>\n",
       "      <td>0</td>\n",
       "      <td>1</td>\n",
       "      <td>0</td>\n",
       "    </tr>\n",
       "    <tr>\n",
       "      <th>10</th>\n",
       "      <td>3.51827e-06</td>\n",
       "      <td>0.028279</td>\n",
       "      <td>0.97016</td>\n",
       "      <td>1.65546e-05</td>\n",
       "      <td>1.71981e-08</td>\n",
       "      <td>0.00154111</td>\n",
       "      <td>0</td>\n",
       "      <td>0</td>\n",
       "      <td>0</td>\n",
       "      <td>1</td>\n",
       "      <td>0</td>\n",
       "      <td>1</td>\n",
       "      <td>0</td>\n",
       "    </tr>\n",
       "  </tbody>\n",
       "</table>\n",
       "</div>"
      ],
      "text/plain": [
       "          Bulge   Exterior      Hairpin     Internal  Multibranch        Stem  \\\n",
       "1             0   0.721379            0            0            0    0.278621   \n",
       "2   0.000246423   0.420411  1.54179e-05   0.00563558  2.49689e-09    0.573691   \n",
       "3   3.47289e-05   0.326347   0.00704892     0.103695  1.06177e-07    0.562873   \n",
       "4   1.41643e-05   0.322814   0.00735739       0.6074  1.82353e-07   0.0624141   \n",
       "5   4.15321e-06   0.322418   0.00748593     0.580503  2.56161e-07   0.0895893   \n",
       "6   0.000314452  0.0272247   0.00777131   0.00334634  2.01279e-08    0.961343   \n",
       "7   0.000333433  0.0221736   0.00777751  0.000799619  1.76893e-09    0.968916   \n",
       "8   0.000383505  0.0242433      0.30224  0.000116265  1.12233e-07    0.673017   \n",
       "9   1.44264e-05  0.0282549     0.967996  3.01338e-05  4.44128e-08  0.00370413   \n",
       "10  3.51827e-06   0.028279      0.97016  1.65546e-05  1.71981e-08  0.00154111   \n",
       "\n",
       "    A  C  G  U  (  .  )  \n",
       "1   1  0  0  0  1  0  0  \n",
       "2   0  0  1  0  0  1  0  \n",
       "3   0  0  1  0  0  1  0  \n",
       "4   0  0  1  0  0  1  0  \n",
       "5   0  0  1  0  0  1  0  \n",
       "6   0  1  0  0  0  1  0  \n",
       "7   0  1  0  0  0  1  0  \n",
       "8   0  0  0  1  0  1  0  \n",
       "9   0  0  0  1  0  1  0  \n",
       "10  0  0  0  1  0  1  0  "
      ]
     },
     "execution_count": 24,
     "metadata": {},
     "output_type": "execute_result"
    }
   ],
   "source": [
    "rna_id = 'testmol'\n",
    "rna_string = 'AGGGGCCUUUUAAGGAAUUUC'\n",
    "struct_string = '(.................)()'\n",
    "\n",
    "df = extract_rna_node_features(rna_id, rna_string, struct_string)\n",
    "print(df.shape)\n",
    "df.head(10)"
   ]
  },
  {
   "cell_type": "markdown",
   "metadata": {
    "papermill": {
     "duration": 0.094692,
     "end_time": "2022-02-13T09:22:50.321226",
     "exception": false,
     "start_time": "2022-02-13T09:22:50.226534",
     "status": "completed"
    },
    "tags": []
   },
   "source": [
    "Now we make a simple function to allow parallelization and save the resulted node features into an individual dataframe. Note that here, use only 1 most-probable structure from the first package to make a feature, but the reader can extend to include structures from all packages easily"
   ]
  },
  {
   "cell_type": "code",
   "execution_count": 25,
   "metadata": {
    "execution": {
     "iopub.execute_input": "2022-02-13T09:22:50.518233Z",
     "iopub.status.busy": "2022-02-13T09:22:50.517694Z",
     "iopub.status.idle": "2022-02-13T09:22:50.521587Z",
     "shell.execute_reply": "2022-02-13T09:22:50.521163Z",
     "shell.execute_reply.started": "2022-02-13T09:20:41.744722Z"
    },
    "papermill": {
     "duration": 0.10622,
     "end_time": "2022-02-13T09:22:50.521695",
     "exception": false,
     "start_time": "2022-02-13T09:22:50.415475",
     "status": "completed"
    },
    "tags": []
   },
   "outputs": [],
   "source": [
    "def extract_rna_node_features_and_save(arg):\n",
    "    rna_id = arg[0]\n",
    "    rna_string = arg[1]\n",
    "    struct_string = arg[2]\n",
    "\n",
    "    df = extract_rna_node_features(rna_id, rna_string, struct_string)\n",
    "    df.to_csv(NODE_DIR+'%s_node_features.csv' % rna_id, index=False)\n",
    "    \n",
    "    return 0"
   ]
  },
  {
   "cell_type": "code",
   "execution_count": 26,
   "metadata": {
    "execution": {
     "iopub.execute_input": "2022-02-13T09:22:50.716813Z",
     "iopub.status.busy": "2022-02-13T09:22:50.716267Z",
     "iopub.status.idle": "2022-02-13T09:22:51.829571Z",
     "shell.execute_reply": "2022-02-13T09:22:51.827861Z",
     "shell.execute_reply.started": "2022-02-13T09:20:41.753116Z"
    },
    "papermill": {
     "duration": 1.213626,
     "end_time": "2022-02-13T09:22:51.829701",
     "exception": false,
     "start_time": "2022-02-13T09:22:50.616075",
     "status": "completed"
    },
    "tags": []
   },
   "outputs": [
    {
     "data": {
      "application/vnd.jupyter.widget-view+json": {
       "model_id": "cff5c21a43fa49d59ba751d922101c69",
       "version_major": 2,
       "version_minor": 0
      },
      "text/plain": [
       "HBox(children=(FloatProgress(value=0.0, max=20.0), HTML(value='')))"
      ]
     },
     "metadata": {},
     "output_type": "display_data"
    },
    {
     "name": "stdout",
     "output_type": "stream",
     "text": [
      "\n"
     ]
    }
   ],
   "source": [
    "arg_list = []\n",
    "\n",
    "for i, (seq_id, sequence, structure) in enumerate(structure_df_list[0][['id','sequence','structure']].values):\n",
    "#     for pack in packages:\n",
    "    arg_list.append([seq_id, sequence, structure])\n",
    "            \n",
    "p = Pool(processes=MAX_THREADS)\n",
    "\n",
    "for ret in tqdm(p.imap(extract_rna_node_features_and_save, arg_list),total=len(arg_list)):\n",
    "    pass # we save the output to files"
   ]
  },
  {
   "cell_type": "markdown",
   "metadata": {
    "papermill": {
     "duration": 0.145819,
     "end_time": "2022-02-13T09:22:52.114548",
     "exception": false,
     "start_time": "2022-02-13T09:22:51.968729",
     "status": "completed"
    },
    "tags": []
   },
   "source": [
    "Node-feature extraction is done ☄️ 💥 🔥 !!"
   ]
  },
  {
   "cell_type": "code",
   "execution_count": 27,
   "metadata": {
    "execution": {
     "iopub.execute_input": "2022-02-13T09:22:52.409809Z",
     "iopub.status.busy": "2022-02-13T09:22:52.409136Z",
     "iopub.status.idle": "2022-02-13T09:22:52.973631Z",
     "shell.execute_reply": "2022-02-13T09:22:52.972995Z",
     "shell.execute_reply.started": "2022-02-13T09:20:43.032673Z"
    },
    "papermill": {
     "duration": 0.719695,
     "end_time": "2022-02-13T09:22:52.973761",
     "exception": false,
     "start_time": "2022-02-13T09:22:52.254066",
     "status": "completed"
    },
    "tags": []
   },
   "outputs": [
    {
     "name": "stdout",
     "output_type": "stream",
     "text": [
      "     20      20     620\r\n",
      "id_00073f8be_node_features.csv\r\n",
      "id_000ae4237_node_features.csv\r\n",
      "id_00131c573_node_features.csv\r\n",
      "id_00181fd34_node_features.csv\r\n",
      "id_001f94081_node_features.csv\r\n",
      "id_0020473f7_node_features.csv\r\n",
      "id_002852873_node_features.csv\r\n",
      "id_0031191b7_node_features.csv\r\n",
      "id_003ab2445_node_features.csv\r\n",
      "id_0049f53ba_node_features.csv\r\n"
     ]
    }
   ],
   "source": [
    "# investigate the save bpps files\n",
    "!ls {NODE_DIR} | wc\n",
    "!ls {NODE_DIR} | head"
   ]
  },
  {
   "cell_type": "markdown",
   "metadata": {
    "papermill": {
     "duration": 0.14067,
     "end_time": "2022-02-13T09:22:53.257060",
     "exception": false,
     "start_time": "2022-02-13T09:22:53.116390",
     "status": "completed"
    },
    "tags": []
   },
   "source": [
    "# (Optional) 3. Advanced Node-Feature Extraction\n",
    "\n",
    "We are done, but what else? We can actually go beyond to explore some feature engineering like SOTA [models](https://www.kaggle.com/group16/covid-19-mrna-4th-place-solution), which also was inspried by [this](https://www.kaggle.com/its7171/gru-lstm-with-feature-engineering-and-augmentation) and this [notebooks](https://www.kaggle.com/its7171/dangerous-features). Yes, SOTA models were those who got gold medals in the very-intense OpenVaccine competition!\n",
    "\n",
    "Advanced node features that we are going to extract further in this section are\n",
    "\n",
    "* The ratio of Dot-Bracket prediction `'(', '.',` and `')'` predicted by 3 packages (`vienna`, `contrafold` and `rnastructure`) -- instead of depending only on one package like we did in previous section\n",
    "* Some of bpps for each base\n",
    "* Maximum probability with respect to bpps for each base\n",
    "* Number of non-zeros on bpps for each base\n",
    "* Codon's (triplet) position for each base which is simply 012012012012... for every RNA string.\n"
   ]
  },
  {
   "cell_type": "code",
   "execution_count": 28,
   "metadata": {
    "execution": {
     "iopub.execute_input": "2022-02-13T09:22:53.544509Z",
     "iopub.status.busy": "2022-02-13T09:22:53.543814Z",
     "iopub.status.idle": "2022-02-13T09:22:53.546303Z",
     "shell.execute_reply": "2022-02-13T09:22:53.545688Z",
     "shell.execute_reply.started": "2022-02-13T09:20:44.579206Z"
    },
    "papermill": {
     "duration": 0.149084,
     "end_time": "2022-02-13T09:22:53.546423",
     "exception": false,
     "start_time": "2022-02-13T09:22:53.397339",
     "status": "completed"
    },
    "tags": []
   },
   "outputs": [],
   "source": [
    "# we will save these advanced node features separated from basic node features, so that users can choose either of them\n",
    "ADV_NODE_DIR = '/kaggle/working/advanced_node_features/'\n",
    "os.mkdir(ADV_NODE_DIR) "
   ]
  },
  {
   "cell_type": "code",
   "execution_count": 29,
   "metadata": {
    "execution": {
     "iopub.execute_input": "2022-02-13T09:22:53.833751Z",
     "iopub.status.busy": "2022-02-13T09:22:53.833099Z",
     "iopub.status.idle": "2022-02-13T09:22:53.845756Z",
     "shell.execute_reply": "2022-02-13T09:22:53.845166Z",
     "shell.execute_reply.started": "2022-02-13T09:20:44.587979Z"
    },
    "papermill": {
     "duration": 0.157553,
     "end_time": "2022-02-13T09:22:53.845873",
     "exception": false,
     "start_time": "2022-02-13T09:22:53.688320",
     "status": "completed"
    },
    "tags": []
   },
   "outputs": [
    {
     "data": {
      "text/html": [
       "<div>\n",
       "<style scoped>\n",
       "    .dataframe tbody tr th:only-of-type {\n",
       "        vertical-align: middle;\n",
       "    }\n",
       "\n",
       "    .dataframe tbody tr th {\n",
       "        vertical-align: top;\n",
       "    }\n",
       "\n",
       "    .dataframe thead th {\n",
       "        text-align: right;\n",
       "    }\n",
       "</style>\n",
       "<table border=\"1\" class=\"dataframe\">\n",
       "  <thead>\n",
       "    <tr style=\"text-align: right;\">\n",
       "      <th></th>\n",
       "      <th>id</th>\n",
       "      <th>sequence</th>\n",
       "      <th>structure</th>\n",
       "      <th>score</th>\n",
       "      <th>package</th>\n",
       "    </tr>\n",
       "  </thead>\n",
       "  <tbody>\n",
       "    <tr>\n",
       "      <th>0</th>\n",
       "      <td>id_001f94081</td>\n",
       "      <td>GGAAAAGCUCUAAUAACAGGAGACUAGGACUACGUAUUUCUAGGUA...</td>\n",
       "      <td>.................................................</td>\n",
       "      <td>0.557927</td>\n",
       "      <td>contrafold_2</td>\n",
       "    </tr>\n",
       "    <tr>\n",
       "      <th>1</th>\n",
       "      <td>id_001f94081</td>\n",
       "      <td>GGAAAAGCUCUAAUAACAGGAGACUAGGACUACGUAUUUCUAGGUA...</td>\n",
       "      <td>.......((((.......))))...........................</td>\n",
       "      <td>0.628510</td>\n",
       "      <td>vienna_2</td>\n",
       "    </tr>\n",
       "  </tbody>\n",
       "</table>\n",
       "</div>"
      ],
      "text/plain": [
       "             id                                           sequence  \\\n",
       "0  id_001f94081  GGAAAAGCUCUAAUAACAGGAGACUAGGACUACGUAUUUCUAGGUA...   \n",
       "1  id_001f94081  GGAAAAGCUCUAAUAACAGGAGACUAGGACUACGUAUUUCUAGGUA...   \n",
       "\n",
       "                                           structure     score       package  \n",
       "0  .................................................  0.557927  contrafold_2  \n",
       "1  .......((((.......))))...........................  0.628510      vienna_2  "
      ]
     },
     "execution_count": 29,
     "metadata": {},
     "output_type": "execute_result"
    }
   ],
   "source": [
    "rna_id_list = structure_df.id.unique()\n",
    "structure_df.head(2)"
   ]
  },
  {
   "cell_type": "code",
   "execution_count": 30,
   "metadata": {
    "execution": {
     "iopub.execute_input": "2022-02-13T09:22:54.133624Z",
     "iopub.status.busy": "2022-02-13T09:22:54.132939Z",
     "iopub.status.idle": "2022-02-13T09:22:54.197882Z",
     "shell.execute_reply": "2022-02-13T09:22:54.197197Z",
     "shell.execute_reply.started": "2022-02-13T09:20:44.612924Z"
    },
    "papermill": {
     "duration": 0.209905,
     "end_time": "2022-02-13T09:22:54.198033",
     "exception": false,
     "start_time": "2022-02-13T09:22:53.988128",
     "status": "completed"
    },
    "tags": []
   },
   "outputs": [
    {
     "name": "stdout",
     "output_type": "stream",
     "text": [
      "(107, 22)\n"
     ]
    },
    {
     "data": {
      "text/html": [
       "<div>\n",
       "<style scoped>\n",
       "    .dataframe tbody tr th:only-of-type {\n",
       "        vertical-align: middle;\n",
       "    }\n",
       "\n",
       "    .dataframe tbody tr th {\n",
       "        vertical-align: top;\n",
       "    }\n",
       "\n",
       "    .dataframe thead th {\n",
       "        text-align: right;\n",
       "    }\n",
       "</style>\n",
       "<table border=\"1\" class=\"dataframe\">\n",
       "  <thead>\n",
       "    <tr style=\"text-align: right;\">\n",
       "      <th></th>\n",
       "      <th>Bulge</th>\n",
       "      <th>Exterior</th>\n",
       "      <th>Hairpin</th>\n",
       "      <th>Internal</th>\n",
       "      <th>Multibranch</th>\n",
       "      <th>Stem</th>\n",
       "      <th>A</th>\n",
       "      <th>C</th>\n",
       "      <th>G</th>\n",
       "      <th>U</th>\n",
       "      <th>...</th>\n",
       "      <th>)</th>\n",
       "      <th>(-ratio</th>\n",
       "      <th>)-ratio</th>\n",
       "      <th>.-ratio</th>\n",
       "      <th>codon-pos0</th>\n",
       "      <th>codon-pos1</th>\n",
       "      <th>codon-pos2</th>\n",
       "      <th>bpps-max</th>\n",
       "      <th>bpps-sum</th>\n",
       "      <th>bpps-num-ratio</th>\n",
       "    </tr>\n",
       "  </thead>\n",
       "  <tbody>\n",
       "    <tr>\n",
       "      <th>0</th>\n",
       "      <td>0.000000</td>\n",
       "      <td>0.618965</td>\n",
       "      <td>0.000000</td>\n",
       "      <td>0.000000</td>\n",
       "      <td>0.000000</td>\n",
       "      <td>0.381035</td>\n",
       "      <td>0</td>\n",
       "      <td>0</td>\n",
       "      <td>1</td>\n",
       "      <td>0</td>\n",
       "      <td>...</td>\n",
       "      <td>0</td>\n",
       "      <td>0.000000</td>\n",
       "      <td>0.000000</td>\n",
       "      <td>1.000000</td>\n",
       "      <td>1</td>\n",
       "      <td>0</td>\n",
       "      <td>0</td>\n",
       "      <td>0.026483</td>\n",
       "      <td>0.145467</td>\n",
       "      <td>0.598131</td>\n",
       "    </tr>\n",
       "    <tr>\n",
       "      <th>1</th>\n",
       "      <td>0.000032</td>\n",
       "      <td>0.471132</td>\n",
       "      <td>0.000167</td>\n",
       "      <td>0.045136</td>\n",
       "      <td>0.190985</td>\n",
       "      <td>0.292548</td>\n",
       "      <td>0</td>\n",
       "      <td>0</td>\n",
       "      <td>1</td>\n",
       "      <td>0</td>\n",
       "      <td>...</td>\n",
       "      <td>0</td>\n",
       "      <td>0.000000</td>\n",
       "      <td>0.000000</td>\n",
       "      <td>1.000000</td>\n",
       "      <td>0</td>\n",
       "      <td>1</td>\n",
       "      <td>0</td>\n",
       "      <td>0.026349</td>\n",
       "      <td>0.125363</td>\n",
       "      <td>0.598131</td>\n",
       "    </tr>\n",
       "    <tr>\n",
       "      <th>2</th>\n",
       "      <td>0.000184</td>\n",
       "      <td>0.470539</td>\n",
       "      <td>0.000908</td>\n",
       "      <td>0.078797</td>\n",
       "      <td>0.420182</td>\n",
       "      <td>0.029391</td>\n",
       "      <td>1</td>\n",
       "      <td>0</td>\n",
       "      <td>0</td>\n",
       "      <td>0</td>\n",
       "      <td>...</td>\n",
       "      <td>0</td>\n",
       "      <td>0.000000</td>\n",
       "      <td>0.000000</td>\n",
       "      <td>1.000000</td>\n",
       "      <td>0</td>\n",
       "      <td>0</td>\n",
       "      <td>1</td>\n",
       "      <td>0.022223</td>\n",
       "      <td>0.049443</td>\n",
       "      <td>0.813084</td>\n",
       "    </tr>\n",
       "    <tr>\n",
       "      <th>3</th>\n",
       "      <td>0.000719</td>\n",
       "      <td>0.469550</td>\n",
       "      <td>0.003510</td>\n",
       "      <td>0.080420</td>\n",
       "      <td>0.421579</td>\n",
       "      <td>0.024222</td>\n",
       "      <td>1</td>\n",
       "      <td>0</td>\n",
       "      <td>0</td>\n",
       "      <td>0</td>\n",
       "      <td>...</td>\n",
       "      <td>0</td>\n",
       "      <td>0.000000</td>\n",
       "      <td>0.000000</td>\n",
       "      <td>1.000000</td>\n",
       "      <td>1</td>\n",
       "      <td>0</td>\n",
       "      <td>0</td>\n",
       "      <td>0.021769</td>\n",
       "      <td>0.025749</td>\n",
       "      <td>0.813084</td>\n",
       "    </tr>\n",
       "    <tr>\n",
       "      <th>4</th>\n",
       "      <td>0.000886</td>\n",
       "      <td>0.462434</td>\n",
       "      <td>0.003542</td>\n",
       "      <td>0.081577</td>\n",
       "      <td>0.420775</td>\n",
       "      <td>0.030787</td>\n",
       "      <td>1</td>\n",
       "      <td>0</td>\n",
       "      <td>0</td>\n",
       "      <td>0</td>\n",
       "      <td>...</td>\n",
       "      <td>0</td>\n",
       "      <td>0.000000</td>\n",
       "      <td>0.000000</td>\n",
       "      <td>1.000000</td>\n",
       "      <td>0</td>\n",
       "      <td>1</td>\n",
       "      <td>0</td>\n",
       "      <td>0.019496</td>\n",
       "      <td>0.026239</td>\n",
       "      <td>0.813084</td>\n",
       "    </tr>\n",
       "    <tr>\n",
       "      <th>5</th>\n",
       "      <td>0.002027</td>\n",
       "      <td>0.181498</td>\n",
       "      <td>0.003563</td>\n",
       "      <td>0.039973</td>\n",
       "      <td>0.164014</td>\n",
       "      <td>0.608925</td>\n",
       "      <td>1</td>\n",
       "      <td>0</td>\n",
       "      <td>0</td>\n",
       "      <td>0</td>\n",
       "      <td>...</td>\n",
       "      <td>0</td>\n",
       "      <td>0.333333</td>\n",
       "      <td>0.000000</td>\n",
       "      <td>0.666667</td>\n",
       "      <td>0</td>\n",
       "      <td>0</td>\n",
       "      <td>1</td>\n",
       "      <td>0.352296</td>\n",
       "      <td>0.382721</td>\n",
       "      <td>0.813084</td>\n",
       "    </tr>\n",
       "    <tr>\n",
       "      <th>6</th>\n",
       "      <td>0.000131</td>\n",
       "      <td>0.092504</td>\n",
       "      <td>0.003617</td>\n",
       "      <td>0.033511</td>\n",
       "      <td>0.081318</td>\n",
       "      <td>0.788919</td>\n",
       "      <td>0</td>\n",
       "      <td>0</td>\n",
       "      <td>1</td>\n",
       "      <td>0</td>\n",
       "      <td>...</td>\n",
       "      <td>0</td>\n",
       "      <td>0.333333</td>\n",
       "      <td>0.000000</td>\n",
       "      <td>0.666667</td>\n",
       "      <td>1</td>\n",
       "      <td>0</td>\n",
       "      <td>0</td>\n",
       "      <td>0.388726</td>\n",
       "      <td>0.473170</td>\n",
       "      <td>0.607477</td>\n",
       "    </tr>\n",
       "    <tr>\n",
       "      <th>7</th>\n",
       "      <td>0.002848</td>\n",
       "      <td>0.009723</td>\n",
       "      <td>0.003390</td>\n",
       "      <td>0.032446</td>\n",
       "      <td>0.005118</td>\n",
       "      <td>0.946475</td>\n",
       "      <td>0</td>\n",
       "      <td>1</td>\n",
       "      <td>0</td>\n",
       "      <td>0</td>\n",
       "      <td>...</td>\n",
       "      <td>0</td>\n",
       "      <td>0.666667</td>\n",
       "      <td>0.000000</td>\n",
       "      <td>0.333333</td>\n",
       "      <td>0</td>\n",
       "      <td>1</td>\n",
       "      <td>0</td>\n",
       "      <td>0.691272</td>\n",
       "      <td>0.769333</td>\n",
       "      <td>0.822430</td>\n",
       "    </tr>\n",
       "    <tr>\n",
       "      <th>8</th>\n",
       "      <td>0.000867</td>\n",
       "      <td>0.004836</td>\n",
       "      <td>0.000775</td>\n",
       "      <td>0.027648</td>\n",
       "      <td>0.023786</td>\n",
       "      <td>0.942088</td>\n",
       "      <td>0</td>\n",
       "      <td>0</td>\n",
       "      <td>0</td>\n",
       "      <td>1</td>\n",
       "      <td>...</td>\n",
       "      <td>0</td>\n",
       "      <td>0.666667</td>\n",
       "      <td>0.000000</td>\n",
       "      <td>0.333333</td>\n",
       "      <td>0</td>\n",
       "      <td>0</td>\n",
       "      <td>1</td>\n",
       "      <td>0.700931</td>\n",
       "      <td>0.805981</td>\n",
       "      <td>0.420561</td>\n",
       "    </tr>\n",
       "    <tr>\n",
       "      <th>9</th>\n",
       "      <td>0.000621</td>\n",
       "      <td>0.004215</td>\n",
       "      <td>0.001131</td>\n",
       "      <td>0.001906</td>\n",
       "      <td>0.072972</td>\n",
       "      <td>0.919155</td>\n",
       "      <td>0</td>\n",
       "      <td>1</td>\n",
       "      <td>0</td>\n",
       "      <td>0</td>\n",
       "      <td>...</td>\n",
       "      <td>0</td>\n",
       "      <td>0.666667</td>\n",
       "      <td>0.000000</td>\n",
       "      <td>0.333333</td>\n",
       "      <td>1</td>\n",
       "      <td>0</td>\n",
       "      <td>0</td>\n",
       "      <td>0.699819</td>\n",
       "      <td>0.798533</td>\n",
       "      <td>0.822430</td>\n",
       "    </tr>\n",
       "    <tr>\n",
       "      <th>10</th>\n",
       "      <td>0.000694</td>\n",
       "      <td>0.004701</td>\n",
       "      <td>0.095875</td>\n",
       "      <td>0.001762</td>\n",
       "      <td>0.073459</td>\n",
       "      <td>0.823510</td>\n",
       "      <td>0</td>\n",
       "      <td>0</td>\n",
       "      <td>0</td>\n",
       "      <td>1</td>\n",
       "      <td>...</td>\n",
       "      <td>0</td>\n",
       "      <td>0.666667</td>\n",
       "      <td>0.000000</td>\n",
       "      <td>0.333333</td>\n",
       "      <td>0</td>\n",
       "      <td>1</td>\n",
       "      <td>0</td>\n",
       "      <td>0.663602</td>\n",
       "      <td>0.761356</td>\n",
       "      <td>0.411215</td>\n",
       "    </tr>\n",
       "    <tr>\n",
       "      <th>11</th>\n",
       "      <td>0.002631</td>\n",
       "      <td>0.007158</td>\n",
       "      <td>0.872819</td>\n",
       "      <td>0.003732</td>\n",
       "      <td>0.077274</td>\n",
       "      <td>0.036386</td>\n",
       "      <td>1</td>\n",
       "      <td>0</td>\n",
       "      <td>0</td>\n",
       "      <td>0</td>\n",
       "      <td>...</td>\n",
       "      <td>0</td>\n",
       "      <td>0.000000</td>\n",
       "      <td>0.000000</td>\n",
       "      <td>1.000000</td>\n",
       "      <td>0</td>\n",
       "      <td>0</td>\n",
       "      <td>1</td>\n",
       "      <td>0.042490</td>\n",
       "      <td>0.053111</td>\n",
       "      <td>0.831776</td>\n",
       "    </tr>\n",
       "    <tr>\n",
       "      <th>12</th>\n",
       "      <td>0.003434</td>\n",
       "      <td>0.006983</td>\n",
       "      <td>0.890263</td>\n",
       "      <td>0.014186</td>\n",
       "      <td>0.076772</td>\n",
       "      <td>0.008362</td>\n",
       "      <td>1</td>\n",
       "      <td>0</td>\n",
       "      <td>0</td>\n",
       "      <td>0</td>\n",
       "      <td>...</td>\n",
       "      <td>0</td>\n",
       "      <td>0.000000</td>\n",
       "      <td>0.000000</td>\n",
       "      <td>1.000000</td>\n",
       "      <td>1</td>\n",
       "      <td>0</td>\n",
       "      <td>0</td>\n",
       "      <td>0.040794</td>\n",
       "      <td>0.052054</td>\n",
       "      <td>0.822430</td>\n",
       "    </tr>\n",
       "    <tr>\n",
       "      <th>13</th>\n",
       "      <td>0.002804</td>\n",
       "      <td>0.006793</td>\n",
       "      <td>0.890317</td>\n",
       "      <td>0.002800</td>\n",
       "      <td>0.076623</td>\n",
       "      <td>0.020662</td>\n",
       "      <td>0</td>\n",
       "      <td>0</td>\n",
       "      <td>0</td>\n",
       "      <td>1</td>\n",
       "      <td>...</td>\n",
       "      <td>0</td>\n",
       "      <td>0.000000</td>\n",
       "      <td>0.000000</td>\n",
       "      <td>1.000000</td>\n",
       "      <td>0</td>\n",
       "      <td>1</td>\n",
       "      <td>0</td>\n",
       "      <td>0.034707</td>\n",
       "      <td>0.058354</td>\n",
       "      <td>0.411215</td>\n",
       "    </tr>\n",
       "    <tr>\n",
       "      <th>14</th>\n",
       "      <td>0.003056</td>\n",
       "      <td>0.006798</td>\n",
       "      <td>0.901997</td>\n",
       "      <td>0.006643</td>\n",
       "      <td>0.080770</td>\n",
       "      <td>0.000736</td>\n",
       "      <td>1</td>\n",
       "      <td>0</td>\n",
       "      <td>0</td>\n",
       "      <td>0</td>\n",
       "      <td>...</td>\n",
       "      <td>0</td>\n",
       "      <td>0.000000</td>\n",
       "      <td>0.000000</td>\n",
       "      <td>1.000000</td>\n",
       "      <td>0</td>\n",
       "      <td>0</td>\n",
       "      <td>1</td>\n",
       "      <td>0.000947</td>\n",
       "      <td>0.004909</td>\n",
       "      <td>0.813084</td>\n",
       "    </tr>\n",
       "    <tr>\n",
       "      <th>15</th>\n",
       "      <td>0.003064</td>\n",
       "      <td>0.006721</td>\n",
       "      <td>0.901881</td>\n",
       "      <td>0.007047</td>\n",
       "      <td>0.080590</td>\n",
       "      <td>0.000696</td>\n",
       "      <td>1</td>\n",
       "      <td>0</td>\n",
       "      <td>0</td>\n",
       "      <td>0</td>\n",
       "      <td>...</td>\n",
       "      <td>0</td>\n",
       "      <td>0.000000</td>\n",
       "      <td>0.000000</td>\n",
       "      <td>1.000000</td>\n",
       "      <td>1</td>\n",
       "      <td>0</td>\n",
       "      <td>0</td>\n",
       "      <td>0.001329</td>\n",
       "      <td>0.005627</td>\n",
       "      <td>0.813084</td>\n",
       "    </tr>\n",
       "    <tr>\n",
       "      <th>16</th>\n",
       "      <td>0.002946</td>\n",
       "      <td>0.005888</td>\n",
       "      <td>0.901829</td>\n",
       "      <td>0.001619</td>\n",
       "      <td>0.076838</td>\n",
       "      <td>0.010882</td>\n",
       "      <td>0</td>\n",
       "      <td>1</td>\n",
       "      <td>0</td>\n",
       "      <td>0</td>\n",
       "      <td>...</td>\n",
       "      <td>0</td>\n",
       "      <td>0.000000</td>\n",
       "      <td>0.000000</td>\n",
       "      <td>1.000000</td>\n",
       "      <td>0</td>\n",
       "      <td>1</td>\n",
       "      <td>0</td>\n",
       "      <td>0.050601</td>\n",
       "      <td>0.079368</td>\n",
       "      <td>0.831776</td>\n",
       "    </tr>\n",
       "    <tr>\n",
       "      <th>17</th>\n",
       "      <td>0.001660</td>\n",
       "      <td>0.005104</td>\n",
       "      <td>0.893420</td>\n",
       "      <td>0.002080</td>\n",
       "      <td>0.063027</td>\n",
       "      <td>0.034709</td>\n",
       "      <td>1</td>\n",
       "      <td>0</td>\n",
       "      <td>0</td>\n",
       "      <td>0</td>\n",
       "      <td>...</td>\n",
       "      <td>0</td>\n",
       "      <td>0.000000</td>\n",
       "      <td>0.000000</td>\n",
       "      <td>1.000000</td>\n",
       "      <td>0</td>\n",
       "      <td>0</td>\n",
       "      <td>1</td>\n",
       "      <td>0.053772</td>\n",
       "      <td>0.085263</td>\n",
       "      <td>0.813084</td>\n",
       "    </tr>\n",
       "    <tr>\n",
       "      <th>18</th>\n",
       "      <td>0.002900</td>\n",
       "      <td>0.003157</td>\n",
       "      <td>0.129059</td>\n",
       "      <td>0.001226</td>\n",
       "      <td>0.016160</td>\n",
       "      <td>0.847498</td>\n",
       "      <td>0</td>\n",
       "      <td>0</td>\n",
       "      <td>1</td>\n",
       "      <td>0</td>\n",
       "      <td>...</td>\n",
       "      <td>0</td>\n",
       "      <td>0.000000</td>\n",
       "      <td>0.666667</td>\n",
       "      <td>0.333333</td>\n",
       "      <td>1</td>\n",
       "      <td>0</td>\n",
       "      <td>0</td>\n",
       "      <td>0.663602</td>\n",
       "      <td>0.803398</td>\n",
       "      <td>0.598131</td>\n",
       "    </tr>\n",
       "    <tr>\n",
       "      <th>19</th>\n",
       "      <td>0.003380</td>\n",
       "      <td>0.002996</td>\n",
       "      <td>0.047516</td>\n",
       "      <td>0.008485</td>\n",
       "      <td>0.013993</td>\n",
       "      <td>0.923630</td>\n",
       "      <td>0</td>\n",
       "      <td>0</td>\n",
       "      <td>1</td>\n",
       "      <td>0</td>\n",
       "      <td>...</td>\n",
       "      <td>0</td>\n",
       "      <td>0.000000</td>\n",
       "      <td>0.666667</td>\n",
       "      <td>0.333333</td>\n",
       "      <td>0</td>\n",
       "      <td>1</td>\n",
       "      <td>0</td>\n",
       "      <td>0.699819</td>\n",
       "      <td>0.757100</td>\n",
       "      <td>0.607477</td>\n",
       "    </tr>\n",
       "    <tr>\n",
       "      <th>20</th>\n",
       "      <td>0.001007</td>\n",
       "      <td>0.003392</td>\n",
       "      <td>0.043023</td>\n",
       "      <td>0.008644</td>\n",
       "      <td>0.018815</td>\n",
       "      <td>0.925119</td>\n",
       "      <td>1</td>\n",
       "      <td>0</td>\n",
       "      <td>0</td>\n",
       "      <td>0</td>\n",
       "      <td>...</td>\n",
       "      <td>0</td>\n",
       "      <td>0.000000</td>\n",
       "      <td>0.666667</td>\n",
       "      <td>0.333333</td>\n",
       "      <td>0</td>\n",
       "      <td>0</td>\n",
       "      <td>1</td>\n",
       "      <td>0.700931</td>\n",
       "      <td>0.745789</td>\n",
       "      <td>0.813084</td>\n",
       "    </tr>\n",
       "    <tr>\n",
       "      <th>21</th>\n",
       "      <td>0.000229</td>\n",
       "      <td>0.003497</td>\n",
       "      <td>0.040420</td>\n",
       "      <td>0.010510</td>\n",
       "      <td>0.020947</td>\n",
       "      <td>0.924396</td>\n",
       "      <td>0</td>\n",
       "      <td>0</td>\n",
       "      <td>1</td>\n",
       "      <td>0</td>\n",
       "      <td>...</td>\n",
       "      <td>0</td>\n",
       "      <td>0.000000</td>\n",
       "      <td>0.666667</td>\n",
       "      <td>0.333333</td>\n",
       "      <td>1</td>\n",
       "      <td>0</td>\n",
       "      <td>0</td>\n",
       "      <td>0.691272</td>\n",
       "      <td>0.760400</td>\n",
       "      <td>0.607477</td>\n",
       "    </tr>\n",
       "    <tr>\n",
       "      <th>22</th>\n",
       "      <td>0.657808</td>\n",
       "      <td>0.084575</td>\n",
       "      <td>0.033312</td>\n",
       "      <td>0.047592</td>\n",
       "      <td>0.107702</td>\n",
       "      <td>0.069011</td>\n",
       "      <td>1</td>\n",
       "      <td>0</td>\n",
       "      <td>0</td>\n",
       "      <td>0</td>\n",
       "      <td>...</td>\n",
       "      <td>0</td>\n",
       "      <td>0.000000</td>\n",
       "      <td>0.000000</td>\n",
       "      <td>1.000000</td>\n",
       "      <td>0</td>\n",
       "      <td>1</td>\n",
       "      <td>0</td>\n",
       "      <td>0.018934</td>\n",
       "      <td>0.048754</td>\n",
       "      <td>0.822430</td>\n",
       "    </tr>\n",
       "    <tr>\n",
       "      <th>23</th>\n",
       "      <td>0.022682</td>\n",
       "      <td>0.067370</td>\n",
       "      <td>0.023784</td>\n",
       "      <td>0.067327</td>\n",
       "      <td>0.086747</td>\n",
       "      <td>0.732090</td>\n",
       "      <td>0</td>\n",
       "      <td>1</td>\n",
       "      <td>0</td>\n",
       "      <td>0</td>\n",
       "      <td>...</td>\n",
       "      <td>0</td>\n",
       "      <td>0.000000</td>\n",
       "      <td>0.333333</td>\n",
       "      <td>0.666667</td>\n",
       "      <td>0</td>\n",
       "      <td>0</td>\n",
       "      <td>1</td>\n",
       "      <td>0.388726</td>\n",
       "      <td>0.698144</td>\n",
       "      <td>0.822430</td>\n",
       "    </tr>\n",
       "    <tr>\n",
       "      <th>24</th>\n",
       "      <td>0.001728</td>\n",
       "      <td>0.104036</td>\n",
       "      <td>0.010592</td>\n",
       "      <td>0.043985</td>\n",
       "      <td>0.115201</td>\n",
       "      <td>0.724457</td>\n",
       "      <td>0</td>\n",
       "      <td>0</td>\n",
       "      <td>0</td>\n",
       "      <td>1</td>\n",
       "      <td>...</td>\n",
       "      <td>0</td>\n",
       "      <td>0.000000</td>\n",
       "      <td>0.333333</td>\n",
       "      <td>0.666667</td>\n",
       "      <td>1</td>\n",
       "      <td>0</td>\n",
       "      <td>0</td>\n",
       "      <td>0.352296</td>\n",
       "      <td>0.712772</td>\n",
       "      <td>0.429907</td>\n",
       "    </tr>\n",
       "  </tbody>\n",
       "</table>\n",
       "<p>25 rows × 22 columns</p>\n",
       "</div>"
      ],
      "text/plain": [
       "       Bulge  Exterior   Hairpin  Internal  Multibranch      Stem  A  C  G  U  \\\n",
       "0   0.000000  0.618965  0.000000  0.000000     0.000000  0.381035  0  0  1  0   \n",
       "1   0.000032  0.471132  0.000167  0.045136     0.190985  0.292548  0  0  1  0   \n",
       "2   0.000184  0.470539  0.000908  0.078797     0.420182  0.029391  1  0  0  0   \n",
       "3   0.000719  0.469550  0.003510  0.080420     0.421579  0.024222  1  0  0  0   \n",
       "4   0.000886  0.462434  0.003542  0.081577     0.420775  0.030787  1  0  0  0   \n",
       "5   0.002027  0.181498  0.003563  0.039973     0.164014  0.608925  1  0  0  0   \n",
       "6   0.000131  0.092504  0.003617  0.033511     0.081318  0.788919  0  0  1  0   \n",
       "7   0.002848  0.009723  0.003390  0.032446     0.005118  0.946475  0  1  0  0   \n",
       "8   0.000867  0.004836  0.000775  0.027648     0.023786  0.942088  0  0  0  1   \n",
       "9   0.000621  0.004215  0.001131  0.001906     0.072972  0.919155  0  1  0  0   \n",
       "10  0.000694  0.004701  0.095875  0.001762     0.073459  0.823510  0  0  0  1   \n",
       "11  0.002631  0.007158  0.872819  0.003732     0.077274  0.036386  1  0  0  0   \n",
       "12  0.003434  0.006983  0.890263  0.014186     0.076772  0.008362  1  0  0  0   \n",
       "13  0.002804  0.006793  0.890317  0.002800     0.076623  0.020662  0  0  0  1   \n",
       "14  0.003056  0.006798  0.901997  0.006643     0.080770  0.000736  1  0  0  0   \n",
       "15  0.003064  0.006721  0.901881  0.007047     0.080590  0.000696  1  0  0  0   \n",
       "16  0.002946  0.005888  0.901829  0.001619     0.076838  0.010882  0  1  0  0   \n",
       "17  0.001660  0.005104  0.893420  0.002080     0.063027  0.034709  1  0  0  0   \n",
       "18  0.002900  0.003157  0.129059  0.001226     0.016160  0.847498  0  0  1  0   \n",
       "19  0.003380  0.002996  0.047516  0.008485     0.013993  0.923630  0  0  1  0   \n",
       "20  0.001007  0.003392  0.043023  0.008644     0.018815  0.925119  1  0  0  0   \n",
       "21  0.000229  0.003497  0.040420  0.010510     0.020947  0.924396  0  0  1  0   \n",
       "22  0.657808  0.084575  0.033312  0.047592     0.107702  0.069011  1  0  0  0   \n",
       "23  0.022682  0.067370  0.023784  0.067327     0.086747  0.732090  0  1  0  0   \n",
       "24  0.001728  0.104036  0.010592  0.043985     0.115201  0.724457  0  0  0  1   \n",
       "\n",
       "    ...  )   (-ratio   )-ratio   .-ratio  codon-pos0  codon-pos1  codon-pos2  \\\n",
       "0   ...  0  0.000000  0.000000  1.000000           1           0           0   \n",
       "1   ...  0  0.000000  0.000000  1.000000           0           1           0   \n",
       "2   ...  0  0.000000  0.000000  1.000000           0           0           1   \n",
       "3   ...  0  0.000000  0.000000  1.000000           1           0           0   \n",
       "4   ...  0  0.000000  0.000000  1.000000           0           1           0   \n",
       "5   ...  0  0.333333  0.000000  0.666667           0           0           1   \n",
       "6   ...  0  0.333333  0.000000  0.666667           1           0           0   \n",
       "7   ...  0  0.666667  0.000000  0.333333           0           1           0   \n",
       "8   ...  0  0.666667  0.000000  0.333333           0           0           1   \n",
       "9   ...  0  0.666667  0.000000  0.333333           1           0           0   \n",
       "10  ...  0  0.666667  0.000000  0.333333           0           1           0   \n",
       "11  ...  0  0.000000  0.000000  1.000000           0           0           1   \n",
       "12  ...  0  0.000000  0.000000  1.000000           1           0           0   \n",
       "13  ...  0  0.000000  0.000000  1.000000           0           1           0   \n",
       "14  ...  0  0.000000  0.000000  1.000000           0           0           1   \n",
       "15  ...  0  0.000000  0.000000  1.000000           1           0           0   \n",
       "16  ...  0  0.000000  0.000000  1.000000           0           1           0   \n",
       "17  ...  0  0.000000  0.000000  1.000000           0           0           1   \n",
       "18  ...  0  0.000000  0.666667  0.333333           1           0           0   \n",
       "19  ...  0  0.000000  0.666667  0.333333           0           1           0   \n",
       "20  ...  0  0.000000  0.666667  0.333333           0           0           1   \n",
       "21  ...  0  0.000000  0.666667  0.333333           1           0           0   \n",
       "22  ...  0  0.000000  0.000000  1.000000           0           1           0   \n",
       "23  ...  0  0.000000  0.333333  0.666667           0           0           1   \n",
       "24  ...  0  0.000000  0.333333  0.666667           1           0           0   \n",
       "\n",
       "    bpps-max  bpps-sum  bpps-num-ratio  \n",
       "0   0.026483  0.145467        0.598131  \n",
       "1   0.026349  0.125363        0.598131  \n",
       "2   0.022223  0.049443        0.813084  \n",
       "3   0.021769  0.025749        0.813084  \n",
       "4   0.019496  0.026239        0.813084  \n",
       "5   0.352296  0.382721        0.813084  \n",
       "6   0.388726  0.473170        0.607477  \n",
       "7   0.691272  0.769333        0.822430  \n",
       "8   0.700931  0.805981        0.420561  \n",
       "9   0.699819  0.798533        0.822430  \n",
       "10  0.663602  0.761356        0.411215  \n",
       "11  0.042490  0.053111        0.831776  \n",
       "12  0.040794  0.052054        0.822430  \n",
       "13  0.034707  0.058354        0.411215  \n",
       "14  0.000947  0.004909        0.813084  \n",
       "15  0.001329  0.005627        0.813084  \n",
       "16  0.050601  0.079368        0.831776  \n",
       "17  0.053772  0.085263        0.813084  \n",
       "18  0.663602  0.803398        0.598131  \n",
       "19  0.699819  0.757100        0.607477  \n",
       "20  0.700931  0.745789        0.813084  \n",
       "21  0.691272  0.760400        0.607477  \n",
       "22  0.018934  0.048754        0.822430  \n",
       "23  0.388726  0.698144        0.822430  \n",
       "24  0.352296  0.712772        0.429907  \n",
       "\n",
       "[25 rows x 22 columns]"
      ]
     },
     "execution_count": 30,
     "metadata": {},
     "output_type": "execute_result"
    }
   ],
   "source": [
    "def str_to_charflag(string, char):\n",
    "    bin_str = [c==char for c in string]\n",
    "    return np.array(bin_str).astype(np.int32)\n",
    "\n",
    "# this function assumes the existent of structure_df built in last section\n",
    "def make_advanced_features(rna_id,debug=False):\n",
    "    # first, let us copy the basic features    \n",
    "    df = pd.read_csv(NODE_DIR+rna_id+'_node_features.csv')\n",
    "    \n",
    "    ####\n",
    "    # Ratio of the open-pair, close-pair and non-pair\n",
    "    ####\n",
    "    struct_string_list = structure_df.query('id == @rna_id')['structure'].values\n",
    "    \n",
    "    open_pair_list = np.array([str_to_charflag(s, '(') for s in struct_string_list])\n",
    "    open_pair_ratio = np.mean(open_pair_list, axis=0)\n",
    "    df['(-ratio'] = open_pair_ratio\n",
    "    \n",
    "    close_pair_list = np.array([str_to_charflag(s, ')') for s in struct_string_list])\n",
    "    close_pair_ratio = np.mean(close_pair_list, axis=0)\n",
    "    df[')-ratio'] = close_pair_ratio\n",
    "    \n",
    "    non_pair_list = np.array([str_to_charflag(s, '.') for s in struct_string_list])\n",
    "    non_pair_ratio = np.mean(non_pair_list, axis=0)\n",
    "    df['.-ratio'] = non_pair_ratio\n",
    "    \n",
    "    ####\n",
    "    # Codon positioning feature (trinary)\n",
    "    ####\n",
    "    rna_len = len(struct_string_list[0])\n",
    "    codon_pos0 = (np.arange(rna_len) % 3 == 0).astype(np.int32)\n",
    "    codon_pos1 = (np.arange(rna_len) % 3 == 1).astype(np.int32)\n",
    "    codon_pos2 = (np.arange(rna_len) % 3 == 2).astype(np.int32)\n",
    "    df['codon-pos0'] = codon_pos0\n",
    "    df['codon-pos1'] = codon_pos1\n",
    "    df['codon-pos2'] = codon_pos2\n",
    "    \n",
    "    ####\n",
    "    # bpps feat. engineering\n",
    "    ####\n",
    "    bpps_list = []\n",
    "    for i, package in enumerate(packages):\n",
    "        bpps_list.append(np.load(BPPS_DIR+package+f'/{rna_id}.npy'))\n",
    "    bpps = np.mean(bpps_list, axis=0)\n",
    "    \n",
    "    df['bpps-max'] = np.max(bpps,axis=0)\n",
    "    df['bpps-sum'] = np.sum(bpps,axis=0)\n",
    "    df['bpps-num-ratio'] = np.sum(bpps==0, axis=0)/bpps.shape[0]\n",
    "    \n",
    "    df.to_csv(ADV_NODE_DIR+'%s_node_features.csv' % rna_id, index=False)\n",
    "    \n",
    "    if debug:\n",
    "        return df\n",
    "    return 0\n",
    "\n",
    "df = make_advanced_features(rna_id_list[0], debug=True)\n",
    "print(df.shape)\n",
    "df.head(25)"
   ]
  },
  {
   "cell_type": "code",
   "execution_count": 31,
   "metadata": {
    "execution": {
     "iopub.execute_input": "2022-02-13T09:22:54.400452Z",
     "iopub.status.busy": "2022-02-13T09:22:54.399820Z",
     "iopub.status.idle": "2022-02-13T09:22:54.551549Z",
     "shell.execute_reply": "2022-02-13T09:22:54.551094Z",
     "shell.execute_reply.started": "2022-02-13T09:20:44.740315Z"
    },
    "papermill": {
     "duration": 0.255048,
     "end_time": "2022-02-13T09:22:54.551640",
     "exception": false,
     "start_time": "2022-02-13T09:22:54.296592",
     "status": "completed"
    },
    "tags": []
   },
   "outputs": [
    {
     "data": {
      "application/vnd.jupyter.widget-view+json": {
       "model_id": "0ecc80069b0f4b64b3f2c9e35701d93a",
       "version_major": 2,
       "version_minor": 0
      },
      "text/plain": [
       "HBox(children=(FloatProgress(value=0.0, max=20.0), HTML(value='')))"
      ]
     },
     "metadata": {},
     "output_type": "display_data"
    },
    {
     "name": "stdout",
     "output_type": "stream",
     "text": [
      "\n"
     ]
    }
   ],
   "source": [
    "p = Pool(processes=MAX_THREADS)\n",
    "\n",
    "for ret in tqdm(p.imap(make_advanced_features, rna_id_list),total=len(rna_id_list)):\n",
    "    pass # we save the output to files"
   ]
  },
  {
   "cell_type": "code",
   "execution_count": 32,
   "metadata": {
    "execution": {
     "iopub.execute_input": "2022-02-13T09:22:54.754261Z",
     "iopub.status.busy": "2022-02-13T09:22:54.753611Z",
     "iopub.status.idle": "2022-02-13T09:22:55.307934Z",
     "shell.execute_reply": "2022-02-13T09:22:55.307470Z",
     "shell.execute_reply.started": "2022-02-13T09:20:45.057191Z"
    },
    "papermill": {
     "duration": 0.658216,
     "end_time": "2022-02-13T09:22:55.308041",
     "exception": false,
     "start_time": "2022-02-13T09:22:54.649825",
     "status": "completed"
    },
    "tags": []
   },
   "outputs": [
    {
     "name": "stdout",
     "output_type": "stream",
     "text": [
      "     20      20     620\r\n",
      "id_00073f8be_node_features.csv\r\n",
      "id_000ae4237_node_features.csv\r\n",
      "id_00131c573_node_features.csv\r\n",
      "id_00181fd34_node_features.csv\r\n",
      "id_001f94081_node_features.csv\r\n",
      "id_0020473f7_node_features.csv\r\n",
      "id_002852873_node_features.csv\r\n",
      "id_0031191b7_node_features.csv\r\n",
      "id_003ab2445_node_features.csv\r\n",
      "id_0049f53ba_node_features.csv\r\n"
     ]
    }
   ],
   "source": [
    "# investigate the save bpps files\n",
    "!ls {ADV_NODE_DIR} | wc\n",
    "!ls {ADV_NODE_DIR} | head"
   ]
  },
  {
   "cell_type": "markdown",
   "metadata": {
    "papermill": {
     "duration": 0.098507,
     "end_time": "2022-02-13T09:22:55.505568",
     "exception": false,
     "start_time": "2022-02-13T09:22:55.407061",
     "status": "completed"
    },
    "tags": []
   },
   "source": [
    "# Epilogue: Clean up before finish!!\n",
    "To be compact, we will zip all the extract features and remove all the packages before leaving.\n",
    "By this clean up, it will easy to export into another Kaggle's dataset to be used in another Deep-Modeling notebook\n",
    "\n",
    "This concludes the tutorial; hope it will be useful 🥰 😘!!"
   ]
  },
  {
   "cell_type": "code",
   "execution_count": 33,
   "metadata": {
    "_kg_hide-output": true,
    "execution": {
     "iopub.execute_input": "2022-02-13T09:22:55.717607Z",
     "iopub.status.busy": "2022-02-13T09:22:55.710383Z",
     "iopub.status.idle": "2022-02-13T09:22:56.680756Z",
     "shell.execute_reply": "2022-02-13T09:22:56.680061Z",
     "shell.execute_reply.started": "2022-02-13T09:20:46.645262Z"
    },
    "papermill": {
     "duration": 1.077069,
     "end_time": "2022-02-13T09:22:56.680869",
     "exception": false,
     "start_time": "2022-02-13T09:22:55.603800",
     "status": "completed"
    },
    "tags": []
   },
   "outputs": [
    {
     "name": "stdout",
     "output_type": "stream",
     "text": [
      "  adding: kaggle/working/bpps/ (stored 0%)\r\n",
      "  adding: kaggle/working/bpps/contrafold_2/ (stored 0%)\r\n",
      "  adding: kaggle/working/bpps/contrafold_2/id_001f94081.npy (deflated 81%)\r\n",
      "  adding: kaggle/working/bpps/contrafold_2/id_003ab2445.npy (deflated 91%)\r\n",
      "  adding: kaggle/working/bpps/contrafold_2/id_00181fd34.npy (deflated 91%)\r\n",
      "  adding: kaggle/working/bpps/contrafold_2/id_00ab2d761.npy (deflated 87%)\r\n",
      "  adding: kaggle/working/bpps/contrafold_2/id_002852873.npy (deflated 83%)\r\n",
      "  adding: kaggle/working/bpps/contrafold_2/id_0051b1d76.npy (deflated 94%)\r\n",
      "  adding: kaggle/working/bpps/contrafold_2/id_0020473f7.npy (deflated 97%)\r\n",
      "  adding: kaggle/working/bpps/contrafold_2/id_00073f8be.npy (deflated 80%)\r\n",
      "  adding: kaggle/working/bpps/contrafold_2/id_000ae4237.npy (deflated 88%)\r\n",
      "  adding: kaggle/working/bpps/contrafold_2/id_006f36f57.npy (deflated 76%)\r\n",
      "  adding: kaggle/working/bpps/contrafold_2/id_0087940f4.npy (deflated 76%)\r\n",
      "  adding: kaggle/working/bpps/contrafold_2/id_00131c573.npy (deflated 88%)\r\n",
      "  adding: kaggle/working/bpps/contrafold_2/id_00583aef6.npy (deflated 96%)\r\n",
      "  adding: kaggle/working/bpps/contrafold_2/id_00b436dec.npy (deflated 95%)\r\n",
      "  adding: kaggle/working/bpps/contrafold_2/id_010ab0472.npy (deflated 77%)\r\n",
      "  adding: kaggle/working/bpps/contrafold_2/id_0031191b7.npy (deflated 83%)\r\n",
      "  adding: kaggle/working/bpps/contrafold_2/id_0082d463b.npy (deflated 84%)\r\n",
      "  adding: kaggle/working/bpps/contrafold_2/id_00abef1d7.npy (deflated 95%)\r\n",
      "  adding: kaggle/working/bpps/contrafold_2/id_0049f53ba.npy (deflated 91%)\r\n",
      "  adding: kaggle/working/bpps/contrafold_2/id_00fcc5cd1.npy (deflated 97%)\r\n",
      "  adding: kaggle/working/bpps/vienna_2/ (stored 0%)\r\n",
      "  adding: kaggle/working/bpps/vienna_2/id_001f94081.npy (deflated 74%)\r\n",
      "  adding: kaggle/working/bpps/vienna_2/id_003ab2445.npy (deflated 86%)\r\n",
      "  adding: kaggle/working/bpps/vienna_2/id_00181fd34.npy (deflated 88%)\r\n",
      "  adding: kaggle/working/bpps/vienna_2/id_00ab2d761.npy (deflated 79%)\r\n",
      "  adding: kaggle/working/bpps/vienna_2/id_002852873.npy (deflated 76%)\r\n",
      "  adding: kaggle/working/bpps/vienna_2/id_0051b1d76.npy (deflated 89%)\r\n",
      "  adding: kaggle/working/bpps/vienna_2/id_0020473f7.npy (deflated 95%)\r\n",
      "  adding: kaggle/working/bpps/vienna_2/id_00073f8be.npy (deflated 75%)\r\n",
      "  adding: kaggle/working/bpps/vienna_2/id_000ae4237.npy (deflated 80%)\r\n",
      "  adding: kaggle/working/bpps/vienna_2/id_006f36f57.npy (deflated 72%)\r\n",
      "  adding: kaggle/working/bpps/vienna_2/id_0087940f4.npy (deflated 66%)\r\n",
      "  adding: kaggle/working/bpps/vienna_2/id_00131c573.npy (deflated 81%)\r\n",
      "  adding: kaggle/working/bpps/vienna_2/id_00583aef6.npy (deflated 92%)\r\n",
      "  adding: kaggle/working/bpps/vienna_2/id_00b436dec.npy (deflated 93%)\r\n",
      "  adding: kaggle/working/bpps/vienna_2/id_010ab0472.npy (deflated 70%)\r\n",
      "  adding: kaggle/working/bpps/vienna_2/id_0031191b7.npy (deflated 77%)\r\n",
      "  adding: kaggle/working/bpps/vienna_2/id_0082d463b.npy (deflated 85%)\r\n",
      "  adding: kaggle/working/bpps/vienna_2/id_00abef1d7.npy (deflated 90%)\r\n",
      "  adding: kaggle/working/bpps/vienna_2/id_0049f53ba.npy (deflated 89%)\r\n",
      "  adding: kaggle/working/bpps/vienna_2/id_00fcc5cd1.npy (deflated 95%)\r\n",
      "  adding: kaggle/working/bpps/rnastructure/ (stored 0%)\r\n",
      "  adding: kaggle/working/bpps/rnastructure/id_001f94081.npy (deflated 87%)\r\n",
      "  adding: kaggle/working/bpps/rnastructure/id_003ab2445.npy (deflated 84%)\r\n",
      "  adding: kaggle/working/bpps/rnastructure/id_00181fd34.npy (deflated 85%)\r\n",
      "  adding: kaggle/working/bpps/rnastructure/id_00ab2d761.npy (deflated 88%)\r\n",
      "  adding: kaggle/working/bpps/rnastructure/id_002852873.npy (deflated 84%)\r\n",
      "  adding: kaggle/working/bpps/rnastructure/id_0051b1d76.npy (deflated 87%)\r\n",
      "  adding: kaggle/working/bpps/rnastructure/id_0020473f7.npy (deflated 77%)\r\n",
      "  adding: kaggle/working/bpps/rnastructure/id_00073f8be.npy (deflated 85%)\r\n",
      "  adding: kaggle/working/bpps/rnastructure/id_000ae4237.npy (deflated 85%)\r\n",
      "  adding: kaggle/working/bpps/rnastructure/id_006f36f57.npy (deflated 87%)\r\n",
      "  adding: kaggle/working/bpps/rnastructure/id_0087940f4.npy (deflated 78%)\r\n",
      "  adding: kaggle/working/bpps/rnastructure/id_00131c573.npy (deflated 90%)\r\n",
      "  adding: kaggle/working/bpps/rnastructure/id_00583aef6.npy (deflated 79%)\r\n",
      "  adding: kaggle/working/bpps/rnastructure/id_00b436dec.npy (deflated 84%)\r\n",
      "  adding: kaggle/working/bpps/rnastructure/id_010ab0472.npy (deflated 81%)\r\n",
      "  adding: kaggle/working/bpps/rnastructure/id_0031191b7.npy (deflated 81%)\r\n",
      "  adding: kaggle/working/bpps/rnastructure/id_0082d463b.npy (deflated 84%)\r\n",
      "  adding: kaggle/working/bpps/rnastructure/id_00abef1d7.npy (deflated 84%)\r\n",
      "  adding: kaggle/working/bpps/rnastructure/id_0049f53ba.npy (deflated 79%)\r\n",
      "  adding: kaggle/working/bpps/rnastructure/id_00fcc5cd1.npy (deflated 87%)\r\n",
      "  adding: kaggle/working/node_features/ (stored 0%)\r\n",
      "  adding: kaggle/working/node_features/id_003ab2445_node_features.csv (deflated 66%)\r\n",
      "  adding: kaggle/working/node_features/id_0020473f7_node_features.csv (deflated 68%)\r\n",
      "  adding: kaggle/working/node_features/id_0051b1d76_node_features.csv (deflated 66%)\r\n",
      "  adding: kaggle/working/node_features/id_0082d463b_node_features.csv (deflated 68%)\r\n",
      "  adding: kaggle/working/node_features/id_010ab0472_node_features.csv (deflated 65%)\r\n",
      "  adding: kaggle/working/node_features/id_001f94081_node_features.csv (deflated 65%)\r\n",
      "  adding: kaggle/working/node_features/id_00073f8be_node_features.csv (deflated 66%)\r\n",
      "  adding: kaggle/working/node_features/id_00b436dec_node_features.csv (deflated 67%)\r\n",
      "  adding: kaggle/working/node_features/id_002852873_node_features.csv (deflated 66%)\r\n",
      "  adding: kaggle/working/node_features/id_006f36f57_node_features.csv (deflated 66%)\r\n",
      "  adding: kaggle/working/node_features/id_00abef1d7_node_features.csv (deflated 67%)\r\n",
      "  adding: kaggle/working/node_features/id_00583aef6_node_features.csv (deflated 66%)\r\n",
      "  adding: kaggle/working/node_features/id_0087940f4_node_features.csv (deflated 66%)\r\n",
      "  adding: kaggle/working/node_features/id_00181fd34_node_features.csv (deflated 67%)\r\n",
      "  adding: kaggle/working/node_features/id_00ab2d761_node_features.csv (deflated 67%)\r\n",
      "  adding: kaggle/working/node_features/id_0049f53ba_node_features.csv (deflated 67%)\r\n",
      "  adding: kaggle/working/node_features/id_000ae4237_node_features.csv (deflated 67%)\r\n",
      "  adding: kaggle/working/node_features/id_00131c573_node_features.csv (deflated 67%)\r\n",
      "  adding: kaggle/working/node_features/id_00fcc5cd1_node_features.csv (deflated 69%)\r\n",
      "  adding: kaggle/working/node_features/id_0031191b7_node_features.csv (deflated 66%)\r\n",
      "  adding: kaggle/working/advanced_node_features/ (stored 0%)\r\n",
      "  adding: kaggle/working/advanced_node_features/id_003ab2445_node_features.csv (deflated 67%)\r\n",
      "  adding: kaggle/working/advanced_node_features/id_0020473f7_node_features.csv (deflated 69%)\r\n",
      "  adding: kaggle/working/advanced_node_features/id_0051b1d76_node_features.csv (deflated 67%)\r\n",
      "  adding: kaggle/working/advanced_node_features/id_0082d463b_node_features.csv (deflated 69%)\r\n",
      "  adding: kaggle/working/advanced_node_features/id_010ab0472_node_features.csv (deflated 67%)\r\n",
      "  adding: kaggle/working/advanced_node_features/id_001f94081_node_features.csv (deflated 67%)\r\n",
      "  adding: kaggle/working/advanced_node_features/id_00073f8be_node_features.csv (deflated 68%)\r\n",
      "  adding: kaggle/working/advanced_node_features/id_00b436dec_node_features.csv (deflated 67%)\r\n",
      "  adding: kaggle/working/advanced_node_features/id_002852873_node_features.csv (deflated 68%)\r\n",
      "  adding: kaggle/working/advanced_node_features/id_006f36f57_node_features.csv (deflated 68%)\r\n",
      "  adding: kaggle/working/advanced_node_features/id_00abef1d7_node_features.csv (deflated 68%)\r\n",
      "  adding: kaggle/working/advanced_node_features/id_00583aef6_node_features.csv (deflated 67%)\r\n",
      "  adding: kaggle/working/advanced_node_features/id_0087940f4_node_features.csv (deflated 69%)\r\n",
      "  adding: kaggle/working/advanced_node_features/id_00181fd34_node_features.csv (deflated 68%)\r\n",
      "  adding: kaggle/working/advanced_node_features/id_00ab2d761_node_features.csv (deflated 68%)\r\n",
      "  adding: kaggle/working/advanced_node_features/id_0049f53ba_node_features.csv (deflated 67%)\r\n",
      "  adding: kaggle/working/advanced_node_features/id_000ae4237_node_features.csv (deflated 67%)\r\n",
      "  adding: kaggle/working/advanced_node_features/id_00131c573_node_features.csv (deflated 68%)\r\n",
      "  adding: kaggle/working/advanced_node_features/id_00fcc5cd1_node_features.csv (deflated 69%)\r\n",
      "  adding: kaggle/working/advanced_node_features/id_0031191b7_node_features.csv (deflated 67%)\r\n"
     ]
    }
   ],
   "source": [
    "structure_df.to_csv('most_probable_structure.csv',index=False)\n",
    "!zip -r bpps.zip {BPPS_DIR}\n",
    "!zip -r node_features.zip {NODE_DIR}\n",
    "!zip -r advanced_node_features.zip {ADV_NODE_DIR}"
   ]
  },
  {
   "cell_type": "code",
   "execution_count": 34,
   "metadata": {
    "execution": {
     "iopub.execute_input": "2022-02-13T09:22:56.986356Z",
     "iopub.status.busy": "2022-02-13T09:22:56.985599Z",
     "iopub.status.idle": "2022-02-13T09:22:59.970795Z",
     "shell.execute_reply": "2022-02-13T09:22:59.971299Z",
     "shell.execute_reply.started": "2022-02-13T09:20:49.082241Z"
    },
    "papermill": {
     "duration": 3.142796,
     "end_time": "2022-02-13T09:22:59.971442",
     "exception": false,
     "start_time": "2022-02-13T09:22:56.828646",
     "status": "completed"
    },
    "tags": []
   },
   "outputs": [],
   "source": [
    "!rm -rf CapR/\n",
    "!rm -r tmp/\n",
    "!rm -r RNAstructure/\n",
    "!rm -r arnie/\n",
    "!rm -r contrafold-se/\n",
    "!rm -r draw_rna_pkg/\n",
    "!rm -rf {BPPS_DIR}\n",
    "!rm -rf {NODE_DIR}\n",
    "!rm -rf {ADV_NODE_DIR}\n",
    "!rm arnie.conf"
   ]
  },
  {
   "cell_type": "code",
   "execution_count": 35,
   "metadata": {
    "execution": {
     "iopub.execute_input": "2022-02-13T09:23:00.275704Z",
     "iopub.status.busy": "2022-02-13T09:23:00.272547Z",
     "iopub.status.idle": "2022-02-13T09:23:00.564712Z",
     "shell.execute_reply": "2022-02-13T09:23:00.563839Z",
     "shell.execute_reply.started": "2022-02-13T09:20:56.891403Z"
    },
    "papermill": {
     "duration": 0.443808,
     "end_time": "2022-02-13T09:23:00.564840",
     "exception": false,
     "start_time": "2022-02-13T09:23:00.121032",
     "status": "completed"
    },
    "tags": []
   },
   "outputs": [
    {
     "name": "stdout",
     "output_type": "stream",
     "text": [
      "__notebook__.ipynb\t    bpps.zip\t\t\t node_features.zip\r\n",
      "advanced_node_features.zip  most_probable_structure.csv\r\n"
     ]
    }
   ],
   "source": [
    "# delete temp files relating CapR\n",
    "for f in glob.glob(\"*.fa\"):\n",
    "    os.remove(f)\n",
    "for f in glob.glob(\"*.out\"):\n",
    "    os.remove(f)\n",
    "\n",
    "!ls -h"
   ]
  },
  {
   "cell_type": "code",
   "execution_count": null,
   "metadata": {
    "papermill": {
     "duration": 0.101299,
     "end_time": "2022-02-13T09:23:00.768947",
     "exception": false,
     "start_time": "2022-02-13T09:23:00.667648",
     "status": "completed"
    },
    "tags": []
   },
   "outputs": [],
   "source": []
  }
 ],
 "metadata": {
  "kernelspec": {
   "display_name": "Python 3",
   "language": "python",
   "name": "python3"
  },
  "language_info": {
   "codemirror_mode": {
    "name": "ipython",
    "version": 3
   },
   "file_extension": ".py",
   "mimetype": "text/x-python",
   "name": "python",
   "nbconvert_exporter": "python",
   "pygments_lexer": "ipython3",
   "version": "3.7.6"
  },
  "papermill": {
   "duration": 96.708868,
   "end_time": "2022-02-13T09:23:00.998216",
   "environment_variables": {},
   "exception": null,
   "input_path": "__notebook__.ipynb",
   "output_path": "__notebook__.ipynb",
   "parameters": {},
   "start_time": "2022-02-13T09:21:24.289348",
   "version": "2.1.0"
  },
  "widgets": {
   "application/vnd.jupyter.widget-state+json": {
    "state": {
     "00615529d9e44eea8dd65e06dcb814f1": {
      "model_module": "@jupyter-widgets/base",
      "model_module_version": "1.2.0",
      "model_name": "LayoutModel",
      "state": {
       "_model_module": "@jupyter-widgets/base",
       "_model_module_version": "1.2.0",
       "_model_name": "LayoutModel",
       "_view_count": null,
       "_view_module": "@jupyter-widgets/base",
       "_view_module_version": "1.2.0",
       "_view_name": "LayoutView",
       "align_content": null,
       "align_items": null,
       "align_self": null,
       "border": null,
       "bottom": null,
       "display": null,
       "flex": null,
       "flex_flow": null,
       "grid_area": null,
       "grid_auto_columns": null,
       "grid_auto_flow": null,
       "grid_auto_rows": null,
       "grid_column": null,
       "grid_gap": null,
       "grid_row": null,
       "grid_template_areas": null,
       "grid_template_columns": null,
       "grid_template_rows": null,
       "height": null,
       "justify_content": null,
       "justify_items": null,
       "left": null,
       "margin": null,
       "max_height": null,
       "max_width": null,
       "min_height": null,
       "min_width": null,
       "object_fit": null,
       "object_position": null,
       "order": null,
       "overflow": null,
       "overflow_x": null,
       "overflow_y": null,
       "padding": null,
       "right": null,
       "top": null,
       "visibility": null,
       "width": null
      }
     },
     "030b595b36554fcea64f67809222063c": {
      "model_module": "@jupyter-widgets/controls",
      "model_module_version": "1.5.0",
      "model_name": "HTMLModel",
      "state": {
       "_dom_classes": [],
       "_model_module": "@jupyter-widgets/controls",
       "_model_module_version": "1.5.0",
       "_model_name": "HTMLModel",
       "_view_count": null,
       "_view_module": "@jupyter-widgets/controls",
       "_view_module_version": "1.5.0",
       "_view_name": "HTMLView",
       "description": "",
       "description_tooltip": null,
       "layout": "IPY_MODEL_8c28e9f492f5498b8b413ed8b81b422b",
       "placeholder": "​",
       "style": "IPY_MODEL_1f95944b7ed14729ae48e2cb1c6d4756",
       "value": " 20/20 [00:01&lt;00:00, 18.57it/s]"
      }
     },
     "0ecc80069b0f4b64b3f2c9e35701d93a": {
      "model_module": "@jupyter-widgets/controls",
      "model_module_version": "1.5.0",
      "model_name": "HBoxModel",
      "state": {
       "_dom_classes": [],
       "_model_module": "@jupyter-widgets/controls",
       "_model_module_version": "1.5.0",
       "_model_name": "HBoxModel",
       "_view_count": null,
       "_view_module": "@jupyter-widgets/controls",
       "_view_module_version": "1.5.0",
       "_view_name": "HBoxView",
       "box_style": "",
       "children": [
        "IPY_MODEL_57377658a68048708289e9419d757031",
        "IPY_MODEL_1c946d7e8930482aab8d61a6524c29d3"
       ],
       "layout": "IPY_MODEL_1a6cf70dacc44960bd27f56b368ed36e"
      }
     },
     "14c7e1adcf834e38ae3118b5c23c398c": {
      "model_module": "@jupyter-widgets/base",
      "model_module_version": "1.2.0",
      "model_name": "LayoutModel",
      "state": {
       "_model_module": "@jupyter-widgets/base",
       "_model_module_version": "1.2.0",
       "_model_name": "LayoutModel",
       "_view_count": null,
       "_view_module": "@jupyter-widgets/base",
       "_view_module_version": "1.2.0",
       "_view_name": "LayoutView",
       "align_content": null,
       "align_items": null,
       "align_self": null,
       "border": null,
       "bottom": null,
       "display": null,
       "flex": null,
       "flex_flow": null,
       "grid_area": null,
       "grid_auto_columns": null,
       "grid_auto_flow": null,
       "grid_auto_rows": null,
       "grid_column": null,
       "grid_gap": null,
       "grid_row": null,
       "grid_template_areas": null,
       "grid_template_columns": null,
       "grid_template_rows": null,
       "height": null,
       "justify_content": null,
       "justify_items": null,
       "left": null,
       "margin": null,
       "max_height": null,
       "max_width": null,
       "min_height": null,
       "min_width": null,
       "object_fit": null,
       "object_position": null,
       "order": null,
       "overflow": null,
       "overflow_x": null,
       "overflow_y": null,
       "padding": null,
       "right": null,
       "top": null,
       "visibility": null,
       "width": null
      }
     },
     "1a6cf70dacc44960bd27f56b368ed36e": {
      "model_module": "@jupyter-widgets/base",
      "model_module_version": "1.2.0",
      "model_name": "LayoutModel",
      "state": {
       "_model_module": "@jupyter-widgets/base",
       "_model_module_version": "1.2.0",
       "_model_name": "LayoutModel",
       "_view_count": null,
       "_view_module": "@jupyter-widgets/base",
       "_view_module_version": "1.2.0",
       "_view_name": "LayoutView",
       "align_content": null,
       "align_items": null,
       "align_self": null,
       "border": null,
       "bottom": null,
       "display": null,
       "flex": null,
       "flex_flow": null,
       "grid_area": null,
       "grid_auto_columns": null,
       "grid_auto_flow": null,
       "grid_auto_rows": null,
       "grid_column": null,
       "grid_gap": null,
       "grid_row": null,
       "grid_template_areas": null,
       "grid_template_columns": null,
       "grid_template_rows": null,
       "height": null,
       "justify_content": null,
       "justify_items": null,
       "left": null,
       "margin": null,
       "max_height": null,
       "max_width": null,
       "min_height": null,
       "min_width": null,
       "object_fit": null,
       "object_position": null,
       "order": null,
       "overflow": null,
       "overflow_x": null,
       "overflow_y": null,
       "padding": null,
       "right": null,
       "top": null,
       "visibility": null,
       "width": null
      }
     },
     "1c612973ea2244f7a5914cc8cc3fafeb": {
      "model_module": "@jupyter-widgets/controls",
      "model_module_version": "1.5.0",
      "model_name": "FloatProgressModel",
      "state": {
       "_dom_classes": [],
       "_model_module": "@jupyter-widgets/controls",
       "_model_module_version": "1.5.0",
       "_model_name": "FloatProgressModel",
       "_view_count": null,
       "_view_module": "@jupyter-widgets/controls",
       "_view_module_version": "1.5.0",
       "_view_name": "ProgressView",
       "bar_style": "success",
       "description": "100%",
       "description_tooltip": null,
       "layout": "IPY_MODEL_4a511a97bb094871aa0d580ca5fb8aa7",
       "max": 60.0,
       "min": 0.0,
       "orientation": "horizontal",
       "style": "IPY_MODEL_329cc9b2ada9462ca6a7c672ea1b7e77",
       "value": 60.0
      }
     },
     "1c946d7e8930482aab8d61a6524c29d3": {
      "model_module": "@jupyter-widgets/controls",
      "model_module_version": "1.5.0",
      "model_name": "HTMLModel",
      "state": {
       "_dom_classes": [],
       "_model_module": "@jupyter-widgets/controls",
       "_model_module_version": "1.5.0",
       "_model_name": "HTMLModel",
       "_view_count": null,
       "_view_module": "@jupyter-widgets/controls",
       "_view_module_version": "1.5.0",
       "_view_name": "HTMLView",
       "description": "",
       "description_tooltip": null,
       "layout": "IPY_MODEL_ea736feb3d764b0485acc2023fbed9b0",
       "placeholder": "​",
       "style": "IPY_MODEL_ccd0afbba54f4bfcab8e57548abd98b6",
       "value": " 20/20 [00:00&lt;00:00, 163.51it/s]"
      }
     },
     "1f95944b7ed14729ae48e2cb1c6d4756": {
      "model_module": "@jupyter-widgets/controls",
      "model_module_version": "1.5.0",
      "model_name": "DescriptionStyleModel",
      "state": {
       "_model_module": "@jupyter-widgets/controls",
       "_model_module_version": "1.5.0",
       "_model_name": "DescriptionStyleModel",
       "_view_count": null,
       "_view_module": "@jupyter-widgets/base",
       "_view_module_version": "1.2.0",
       "_view_name": "StyleView",
       "description_width": ""
      }
     },
     "209a39d272de48ebb44a36db042e342f": {
      "model_module": "@jupyter-widgets/controls",
      "model_module_version": "1.5.0",
      "model_name": "ProgressStyleModel",
      "state": {
       "_model_module": "@jupyter-widgets/controls",
       "_model_module_version": "1.5.0",
       "_model_name": "ProgressStyleModel",
       "_view_count": null,
       "_view_module": "@jupyter-widgets/base",
       "_view_module_version": "1.2.0",
       "_view_name": "StyleView",
       "bar_color": null,
       "description_width": "initial"
      }
     },
     "23f113603d194eb3844aea1cdd4dd118": {
      "model_module": "@jupyter-widgets/base",
      "model_module_version": "1.2.0",
      "model_name": "LayoutModel",
      "state": {
       "_model_module": "@jupyter-widgets/base",
       "_model_module_version": "1.2.0",
       "_model_name": "LayoutModel",
       "_view_count": null,
       "_view_module": "@jupyter-widgets/base",
       "_view_module_version": "1.2.0",
       "_view_name": "LayoutView",
       "align_content": null,
       "align_items": null,
       "align_self": null,
       "border": null,
       "bottom": null,
       "display": null,
       "flex": null,
       "flex_flow": null,
       "grid_area": null,
       "grid_auto_columns": null,
       "grid_auto_flow": null,
       "grid_auto_rows": null,
       "grid_column": null,
       "grid_gap": null,
       "grid_row": null,
       "grid_template_areas": null,
       "grid_template_columns": null,
       "grid_template_rows": null,
       "height": null,
       "justify_content": null,
       "justify_items": null,
       "left": null,
       "margin": null,
       "max_height": null,
       "max_width": null,
       "min_height": null,
       "min_width": null,
       "object_fit": null,
       "object_position": null,
       "order": null,
       "overflow": null,
       "overflow_x": null,
       "overflow_y": null,
       "padding": null,
       "right": null,
       "top": null,
       "visibility": null,
       "width": null
      }
     },
     "329cc9b2ada9462ca6a7c672ea1b7e77": {
      "model_module": "@jupyter-widgets/controls",
      "model_module_version": "1.5.0",
      "model_name": "ProgressStyleModel",
      "state": {
       "_model_module": "@jupyter-widgets/controls",
       "_model_module_version": "1.5.0",
       "_model_name": "ProgressStyleModel",
       "_view_count": null,
       "_view_module": "@jupyter-widgets/base",
       "_view_module_version": "1.2.0",
       "_view_name": "StyleView",
       "bar_color": null,
       "description_width": "initial"
      }
     },
     "4a511a97bb094871aa0d580ca5fb8aa7": {
      "model_module": "@jupyter-widgets/base",
      "model_module_version": "1.2.0",
      "model_name": "LayoutModel",
      "state": {
       "_model_module": "@jupyter-widgets/base",
       "_model_module_version": "1.2.0",
       "_model_name": "LayoutModel",
       "_view_count": null,
       "_view_module": "@jupyter-widgets/base",
       "_view_module_version": "1.2.0",
       "_view_name": "LayoutView",
       "align_content": null,
       "align_items": null,
       "align_self": null,
       "border": null,
       "bottom": null,
       "display": null,
       "flex": null,
       "flex_flow": null,
       "grid_area": null,
       "grid_auto_columns": null,
       "grid_auto_flow": null,
       "grid_auto_rows": null,
       "grid_column": null,
       "grid_gap": null,
       "grid_row": null,
       "grid_template_areas": null,
       "grid_template_columns": null,
       "grid_template_rows": null,
       "height": null,
       "justify_content": null,
       "justify_items": null,
       "left": null,
       "margin": null,
       "max_height": null,
       "max_width": null,
       "min_height": null,
       "min_width": null,
       "object_fit": null,
       "object_position": null,
       "order": null,
       "overflow": null,
       "overflow_x": null,
       "overflow_y": null,
       "padding": null,
       "right": null,
       "top": null,
       "visibility": null,
       "width": null
      }
     },
     "4f490c62a4c54d73a47351ac4d8c43a6": {
      "model_module": "@jupyter-widgets/controls",
      "model_module_version": "1.5.0",
      "model_name": "FloatProgressModel",
      "state": {
       "_dom_classes": [],
       "_model_module": "@jupyter-widgets/controls",
       "_model_module_version": "1.5.0",
       "_model_name": "FloatProgressModel",
       "_view_count": null,
       "_view_module": "@jupyter-widgets/controls",
       "_view_module_version": "1.5.0",
       "_view_name": "ProgressView",
       "bar_style": "success",
       "description": "100%",
       "description_tooltip": null,
       "layout": "IPY_MODEL_c881d5af31fa4b649b0de9a159089594",
       "max": 20.0,
       "min": 0.0,
       "orientation": "horizontal",
       "style": "IPY_MODEL_209a39d272de48ebb44a36db042e342f",
       "value": 20.0
      }
     },
     "5236dfa362104f0f849388b054b58770": {
      "model_module": "@jupyter-widgets/controls",
      "model_module_version": "1.5.0",
      "model_name": "DescriptionStyleModel",
      "state": {
       "_model_module": "@jupyter-widgets/controls",
       "_model_module_version": "1.5.0",
       "_model_name": "DescriptionStyleModel",
       "_view_count": null,
       "_view_module": "@jupyter-widgets/base",
       "_view_module_version": "1.2.0",
       "_view_name": "StyleView",
       "description_width": ""
      }
     },
     "57377658a68048708289e9419d757031": {
      "model_module": "@jupyter-widgets/controls",
      "model_module_version": "1.5.0",
      "model_name": "FloatProgressModel",
      "state": {
       "_dom_classes": [],
       "_model_module": "@jupyter-widgets/controls",
       "_model_module_version": "1.5.0",
       "_model_name": "FloatProgressModel",
       "_view_count": null,
       "_view_module": "@jupyter-widgets/controls",
       "_view_module_version": "1.5.0",
       "_view_name": "ProgressView",
       "bar_style": "success",
       "description": "100%",
       "description_tooltip": null,
       "layout": "IPY_MODEL_14c7e1adcf834e38ae3118b5c23c398c",
       "max": 20.0,
       "min": 0.0,
       "orientation": "horizontal",
       "style": "IPY_MODEL_99eb32f265c84836abcb4b3a049eaf62",
       "value": 20.0
      }
     },
     "5c8498cc5f5a4cdb93c46b0019e3fad6": {
      "model_module": "@jupyter-widgets/controls",
      "model_module_version": "1.5.0",
      "model_name": "HBoxModel",
      "state": {
       "_dom_classes": [],
       "_model_module": "@jupyter-widgets/controls",
       "_model_module_version": "1.5.0",
       "_model_name": "HBoxModel",
       "_view_count": null,
       "_view_module": "@jupyter-widgets/controls",
       "_view_module_version": "1.5.0",
       "_view_name": "HBoxView",
       "box_style": "",
       "children": [
        "IPY_MODEL_1c612973ea2244f7a5914cc8cc3fafeb",
        "IPY_MODEL_d6c3d1b153584a1580c15bf7a9920152"
       ],
       "layout": "IPY_MODEL_00615529d9e44eea8dd65e06dcb814f1"
      }
     },
     "8c28e9f492f5498b8b413ed8b81b422b": {
      "model_module": "@jupyter-widgets/base",
      "model_module_version": "1.2.0",
      "model_name": "LayoutModel",
      "state": {
       "_model_module": "@jupyter-widgets/base",
       "_model_module_version": "1.2.0",
       "_model_name": "LayoutModel",
       "_view_count": null,
       "_view_module": "@jupyter-widgets/base",
       "_view_module_version": "1.2.0",
       "_view_name": "LayoutView",
       "align_content": null,
       "align_items": null,
       "align_self": null,
       "border": null,
       "bottom": null,
       "display": null,
       "flex": null,
       "flex_flow": null,
       "grid_area": null,
       "grid_auto_columns": null,
       "grid_auto_flow": null,
       "grid_auto_rows": null,
       "grid_column": null,
       "grid_gap": null,
       "grid_row": null,
       "grid_template_areas": null,
       "grid_template_columns": null,
       "grid_template_rows": null,
       "height": null,
       "justify_content": null,
       "justify_items": null,
       "left": null,
       "margin": null,
       "max_height": null,
       "max_width": null,
       "min_height": null,
       "min_width": null,
       "object_fit": null,
       "object_position": null,
       "order": null,
       "overflow": null,
       "overflow_x": null,
       "overflow_y": null,
       "padding": null,
       "right": null,
       "top": null,
       "visibility": null,
       "width": null
      }
     },
     "8dbbf96ecda14b0b92af8dc31c51791a": {
      "model_module": "@jupyter-widgets/base",
      "model_module_version": "1.2.0",
      "model_name": "LayoutModel",
      "state": {
       "_model_module": "@jupyter-widgets/base",
       "_model_module_version": "1.2.0",
       "_model_name": "LayoutModel",
       "_view_count": null,
       "_view_module": "@jupyter-widgets/base",
       "_view_module_version": "1.2.0",
       "_view_name": "LayoutView",
       "align_content": null,
       "align_items": null,
       "align_self": null,
       "border": null,
       "bottom": null,
       "display": null,
       "flex": null,
       "flex_flow": null,
       "grid_area": null,
       "grid_auto_columns": null,
       "grid_auto_flow": null,
       "grid_auto_rows": null,
       "grid_column": null,
       "grid_gap": null,
       "grid_row": null,
       "grid_template_areas": null,
       "grid_template_columns": null,
       "grid_template_rows": null,
       "height": null,
       "justify_content": null,
       "justify_items": null,
       "left": null,
       "margin": null,
       "max_height": null,
       "max_width": null,
       "min_height": null,
       "min_width": null,
       "object_fit": null,
       "object_position": null,
       "order": null,
       "overflow": null,
       "overflow_x": null,
       "overflow_y": null,
       "padding": null,
       "right": null,
       "top": null,
       "visibility": null,
       "width": null
      }
     },
     "99eb32f265c84836abcb4b3a049eaf62": {
      "model_module": "@jupyter-widgets/controls",
      "model_module_version": "1.5.0",
      "model_name": "ProgressStyleModel",
      "state": {
       "_model_module": "@jupyter-widgets/controls",
       "_model_module_version": "1.5.0",
       "_model_name": "ProgressStyleModel",
       "_view_count": null,
       "_view_module": "@jupyter-widgets/base",
       "_view_module_version": "1.2.0",
       "_view_name": "StyleView",
       "bar_color": null,
       "description_width": "initial"
      }
     },
     "c881d5af31fa4b649b0de9a159089594": {
      "model_module": "@jupyter-widgets/base",
      "model_module_version": "1.2.0",
      "model_name": "LayoutModel",
      "state": {
       "_model_module": "@jupyter-widgets/base",
       "_model_module_version": "1.2.0",
       "_model_name": "LayoutModel",
       "_view_count": null,
       "_view_module": "@jupyter-widgets/base",
       "_view_module_version": "1.2.0",
       "_view_name": "LayoutView",
       "align_content": null,
       "align_items": null,
       "align_self": null,
       "border": null,
       "bottom": null,
       "display": null,
       "flex": null,
       "flex_flow": null,
       "grid_area": null,
       "grid_auto_columns": null,
       "grid_auto_flow": null,
       "grid_auto_rows": null,
       "grid_column": null,
       "grid_gap": null,
       "grid_row": null,
       "grid_template_areas": null,
       "grid_template_columns": null,
       "grid_template_rows": null,
       "height": null,
       "justify_content": null,
       "justify_items": null,
       "left": null,
       "margin": null,
       "max_height": null,
       "max_width": null,
       "min_height": null,
       "min_width": null,
       "object_fit": null,
       "object_position": null,
       "order": null,
       "overflow": null,
       "overflow_x": null,
       "overflow_y": null,
       "padding": null,
       "right": null,
       "top": null,
       "visibility": null,
       "width": null
      }
     },
     "ccd0afbba54f4bfcab8e57548abd98b6": {
      "model_module": "@jupyter-widgets/controls",
      "model_module_version": "1.5.0",
      "model_name": "DescriptionStyleModel",
      "state": {
       "_model_module": "@jupyter-widgets/controls",
       "_model_module_version": "1.5.0",
       "_model_name": "DescriptionStyleModel",
       "_view_count": null,
       "_view_module": "@jupyter-widgets/base",
       "_view_module_version": "1.2.0",
       "_view_name": "StyleView",
       "description_width": ""
      }
     },
     "cff5c21a43fa49d59ba751d922101c69": {
      "model_module": "@jupyter-widgets/controls",
      "model_module_version": "1.5.0",
      "model_name": "HBoxModel",
      "state": {
       "_dom_classes": [],
       "_model_module": "@jupyter-widgets/controls",
       "_model_module_version": "1.5.0",
       "_model_name": "HBoxModel",
       "_view_count": null,
       "_view_module": "@jupyter-widgets/controls",
       "_view_module_version": "1.5.0",
       "_view_name": "HBoxView",
       "box_style": "",
       "children": [
        "IPY_MODEL_4f490c62a4c54d73a47351ac4d8c43a6",
        "IPY_MODEL_030b595b36554fcea64f67809222063c"
       ],
       "layout": "IPY_MODEL_8dbbf96ecda14b0b92af8dc31c51791a"
      }
     },
     "d6c3d1b153584a1580c15bf7a9920152": {
      "model_module": "@jupyter-widgets/controls",
      "model_module_version": "1.5.0",
      "model_name": "HTMLModel",
      "state": {
       "_dom_classes": [],
       "_model_module": "@jupyter-widgets/controls",
       "_model_module_version": "1.5.0",
       "_model_name": "HTMLModel",
       "_view_count": null,
       "_view_module": "@jupyter-widgets/controls",
       "_view_module_version": "1.5.0",
       "_view_name": "HTMLView",
       "description": "",
       "description_tooltip": null,
       "layout": "IPY_MODEL_23f113603d194eb3844aea1cdd4dd118",
       "placeholder": "​",
       "style": "IPY_MODEL_5236dfa362104f0f849388b054b58770",
       "value": " 60/60 [00:15&lt;00:00,  3.98it/s]"
      }
     },
     "ea736feb3d764b0485acc2023fbed9b0": {
      "model_module": "@jupyter-widgets/base",
      "model_module_version": "1.2.0",
      "model_name": "LayoutModel",
      "state": {
       "_model_module": "@jupyter-widgets/base",
       "_model_module_version": "1.2.0",
       "_model_name": "LayoutModel",
       "_view_count": null,
       "_view_module": "@jupyter-widgets/base",
       "_view_module_version": "1.2.0",
       "_view_name": "LayoutView",
       "align_content": null,
       "align_items": null,
       "align_self": null,
       "border": null,
       "bottom": null,
       "display": null,
       "flex": null,
       "flex_flow": null,
       "grid_area": null,
       "grid_auto_columns": null,
       "grid_auto_flow": null,
       "grid_auto_rows": null,
       "grid_column": null,
       "grid_gap": null,
       "grid_row": null,
       "grid_template_areas": null,
       "grid_template_columns": null,
       "grid_template_rows": null,
       "height": null,
       "justify_content": null,
       "justify_items": null,
       "left": null,
       "margin": null,
       "max_height": null,
       "max_width": null,
       "min_height": null,
       "min_width": null,
       "object_fit": null,
       "object_position": null,
       "order": null,
       "overflow": null,
       "overflow_x": null,
       "overflow_y": null,
       "padding": null,
       "right": null,
       "top": null,
       "visibility": null,
       "width": null
      }
     }
    },
    "version_major": 2,
    "version_minor": 0
   }
  }
 },
 "nbformat": 4,
 "nbformat_minor": 4
}
